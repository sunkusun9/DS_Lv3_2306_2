{
 "cells": [
  {
   "cell_type": "markdown",
   "id": "65ff6d42",
   "metadata": {},
   "source": [
    "# 시험장 환경 정보\n",
    "\n",
    "Python: 3.7.4 (tags/v3.7.4:e09359112e, Jul  8 2019, 20:34:20) [MSC v.1916 64 bit (AMD64)]\n",
    "\n",
    "|모듈|버젼|\n",
    "|----|----|\n",
    "|pandas|0.25.1|\n",
    "|numpy|1.18.5|\n",
    "|sklearn|0.21.3|\n",
    "|scipy|1.5.2|\n",
    "|mlxtend|0.15.0.0|\n",
    "|statsmodels|0.11.1|\n",
    "\n",
    "멀티캠퍼스 강선구 (sunku0316.kang@multicampus.com / sun9sun9@gmail.com)"
   ]
  },
  {
   "cell_type": "code",
   "execution_count": 1,
   "id": "de0201e6",
   "metadata": {
    "scrolled": true
   },
   "outputs": [
    {
     "name": "stdout",
     "output_type": "stream",
     "text": [
      "3.7.4 (tags/v3.7.4:e09359112e, Jul  8 2019, 20:34:20) [MSC v.1916 64 bit (AMD64)]\n",
      "pandas 0.25.1\n",
      "numpy 1.18.5\n",
      "sklearn 0.21.3\n",
      "scipy 1.5.2\n",
      "mlxtend 0.15.0.0\n",
      "statsmodels 0.11.1\n"
     ]
    }
   ],
   "source": [
    "# 실행 환경 확인\n",
    "\n",
    "import pandas as pd\n",
    "import numpy as np\n",
    "import sklearn\n",
    "import scipy\n",
    "import statsmodels\n",
    "import mlxtend\n",
    "import sys\n",
    "\n",
    "print(sys.version)\n",
    "for i in [pd, np, sklearn, scipy, mlxtend, statsmodels]:\n",
    "    print(i.__name__, i.__version__)"
   ]
  },
  {
   "cell_type": "code",
   "execution_count": 2,
   "id": "b34013a3",
   "metadata": {},
   "outputs": [],
   "source": [
    "# 시각화 모듈 설정\n",
    "# 참고용 차트를 출력하기 위함\n",
    "import matplotlib.pyplot as plt\n",
    "import seaborn as sns\n",
    "\n",
    "import matplotlib as mpl\n",
    "import matplotlib.font_manager as fm\n",
    "plt.rc('font', family='Malgun Gothic')\n",
    "mpl.rcParams['axes.unicode_minus'] = False"
   ]
  },
  {
   "cell_type": "markdown",
   "id": "38b3bb7e",
   "metadata": {},
   "source": [
    "# 문제 개요\n",
    "\n",
    "삼성전자 A공장은 전기료 효율화를 통한 원가절감 방안을 찾고 있다. \n",
    "\n",
    "공장 가동 시 일시적인 과부하로 최대수요전력이 증가하면 불리한 기본요금이 산정되고 이는 원가상승 요인이 된다. \n",
    "\n",
    "전기 요금은 최대수요전력을 바탕으로 시간 단위로 산정된다. \n",
    "\n",
    "최대수요전력을 예측하여 선제적으로 원가상승에 대응하고자 한다.\n",
    "\n",
    "당일 데이터를 바탕으로, 그 다음 날의 최대수요전력을 예측하는 모델을 개발한다.\n",
    "\n",
    "보유한 데이터는 A공장에서 2021년 1월 1일 ~ 2021년 9월 14일 (9개월) 동안 변압기에 감지센서를 부착하여\n",
    "\n",
    "15분 단위로 최대수요전력을 관측한 데이터이다. \n",
    "\n",
    "데이터는 2종류이며, ‘elec.csv’ 데이터는 최대수요전력을 측정한 데이터이며, \n",
    "\n",
    "'info.csv' 데이터는 측정 당시 기상정보 및 생산량과 인건비율 등의 정보가 포함되어 있다. \n",
    "\n",
    "\n",
    "- 데이터 파일: elec.csv (24,642 rows, 4 columns, 데이터셋명-elec)\n",
    "\n",
    "|변수명|내용|타입|\n",
    "|------|:--|----|\n",
    "|Date|측정  날짜|문자열|\n",
    "|DateHour|측정 날짜와 시간|문자열|\n",
    "|Minute|15분 간격으로 측정<br/>(15분, 30분, 45분, 60분)|문자열|\n",
    "|Value|최대수요전력(피크전기 사용량)<br/> 최대수요전력이란 공장 내 설치된 변압기를 통해<br/>일정 시간 단위로 누적 계산되는 전력을 의미|정수형|\n",
    "\n",
    "- 데이터 파일: info.csv (6,168 rows, 9 columns, 데이터셋명-info)\n",
    "\n",
    "|변수명|내용|타입|\n",
    "|----|:--|-----|\n",
    "|Date|측정 날짜와 시간|문자열|\n",
    "|생산량|해당 시점에 생산해야 할 생산량|정수형|\n",
    "|기온|해당 시점의 기온|실수형|\n",
    "|풍속|해당 시점의 풍속|실수형|\n",
    "|습도|해당 시점의 습도|정수형|\n",
    "|강수량|해당 시점의 강수량|실수형|\n",
    "|전기요금(계절)|해당시점의 전기요금|실수형|\n",
    "|공장인원|해당 시점에 공장이 보유한 생산력|실수형|\n",
    "|인건비|야간 및 주간 인건비에 대한 비율값|실수형|"
   ]
  },
  {
   "cell_type": "code",
   "execution_count": null,
   "id": "83066835",
   "metadata": {},
   "outputs": [],
   "source": []
  },
  {
   "cell_type": "markdown",
   "id": "09e1a1a4",
   "metadata": {},
   "source": [
    "# 전처리(Preprocessing)\n",
    "\n",
    "데이터를 분석하기 위하여 다음에 안내된 순서대로 데이터를 가공하시오.\n",
    "\n",
    "## 단계 1 \n",
    "\n",
    "데이터셋 elec를 이용하여 다음 그림과 같이 재구성하시오.\n",
    "\n",
    "\n",
    " ̵ 최대수요전력 (Value)을 시간당 15분 간격으로 관측하여 얻은 4번의 결과 \n",
    " \n",
    " ̵ DateHour 변수 기준으로 시간당 한 행에 4번 측정결과가 나오도록 재구성함.\n",
    " \n",
    " ̵ 재구성된 데이터셋은 elec1로 표기(6,168 rows, 5 columns)\n",
    "\n",
    "|DateHour|15분|30분|45분|60분|\n",
    "|--------|----|----|----|----|\n",
    "|2021-01-01 00:00:00|62|61|61|61|\n",
    "|2021-01-01 01:00:00|96|93|116|113|\n",
    "|2021-01-01 02:00:00|106|96|106|107|\n",
    "|2021-01-01 03:00:00|92|110|110|109|\n",
    "|2021-01-01 04:00:00|108|105|106|108|"
   ]
  },
  {
   "cell_type": "code",
   "execution_count": 117,
   "id": "ce14aea9",
   "metadata": {},
   "outputs": [
    {
     "data": {
      "text/html": [
       "<div>\n",
       "<style scoped>\n",
       "    .dataframe tbody tr th:only-of-type {\n",
       "        vertical-align: middle;\n",
       "    }\n",
       "\n",
       "    .dataframe tbody tr th {\n",
       "        vertical-align: top;\n",
       "    }\n",
       "\n",
       "    .dataframe thead th {\n",
       "        text-align: right;\n",
       "    }\n",
       "</style>\n",
       "<table border=\"1\" class=\"dataframe\">\n",
       "  <thead>\n",
       "    <tr style=\"text-align: right;\">\n",
       "      <th></th>\n",
       "      <th>Date</th>\n",
       "      <th>DateHour</th>\n",
       "      <th>Minute</th>\n",
       "      <th>Value</th>\n",
       "    </tr>\n",
       "  </thead>\n",
       "  <tbody>\n",
       "    <tr>\n",
       "      <td>0</td>\n",
       "      <td>2021-01-01 00:15:00</td>\n",
       "      <td>2021-01-01 00:00:00</td>\n",
       "      <td>15분</td>\n",
       "      <td>62</td>\n",
       "    </tr>\n",
       "    <tr>\n",
       "      <td>1</td>\n",
       "      <td>2021-01-01 00:30:00</td>\n",
       "      <td>2021-01-01 00:00:00</td>\n",
       "      <td>30분</td>\n",
       "      <td>61</td>\n",
       "    </tr>\n",
       "    <tr>\n",
       "      <td>2</td>\n",
       "      <td>2021-01-01 00:45:00</td>\n",
       "      <td>2021-01-01 00:00:00</td>\n",
       "      <td>45분</td>\n",
       "      <td>61</td>\n",
       "    </tr>\n",
       "    <tr>\n",
       "      <td>3</td>\n",
       "      <td>2021-01-01 01:00:00</td>\n",
       "      <td>2021-01-01 00:00:00</td>\n",
       "      <td>60분</td>\n",
       "      <td>61</td>\n",
       "    </tr>\n",
       "    <tr>\n",
       "      <td>4</td>\n",
       "      <td>2021-01-01 01:15:00</td>\n",
       "      <td>2021-01-01 01:00:00</td>\n",
       "      <td>15분</td>\n",
       "      <td>96</td>\n",
       "    </tr>\n",
       "  </tbody>\n",
       "</table>\n",
       "</div>"
      ],
      "text/plain": [
       "                 Date            DateHour Minute  Value\n",
       "0 2021-01-01 00:15:00 2021-01-01 00:00:00    15분     62\n",
       "1 2021-01-01 00:30:00 2021-01-01 00:00:00    30분     61\n",
       "2 2021-01-01 00:45:00 2021-01-01 00:00:00    45분     61\n",
       "3 2021-01-01 01:00:00 2021-01-01 00:00:00    60분     61\n",
       "4 2021-01-01 01:15:00 2021-01-01 01:00:00    15분     96"
      ]
     },
     "execution_count": 117,
     "metadata": {},
     "output_type": "execute_result"
    }
   ],
   "source": [
    "# parse_dates를 통해 datetime 형식으로 불러옵니다.\n",
    "df_elec = pd.read_csv('elec.csv', parse_dates=['Date', 'DateHour'])\n",
    "df_elec.head()"
   ]
  },
  {
   "cell_type": "code",
   "execution_count": 118,
   "id": "9c6f2e8d",
   "metadata": {},
   "outputs": [
    {
     "name": "stdout",
     "output_type": "stream",
     "text": [
      "<class 'pandas.core.frame.DataFrame'>\n",
      "RangeIndex: 24672 entries, 0 to 24671\n",
      "Data columns (total 4 columns):\n",
      "Date        24672 non-null datetime64[ns]\n",
      "DateHour    24672 non-null datetime64[ns]\n",
      "Minute      24672 non-null object\n",
      "Value       24672 non-null int64\n",
      "dtypes: datetime64[ns](2), int64(1), object(1)\n",
      "memory usage: 771.1+ KB\n"
     ]
    }
   ],
   "source": [
    "df_elec.info()"
   ]
  },
  {
   "cell_type": "code",
   "execution_count": 119,
   "id": "12e98fcb",
   "metadata": {},
   "outputs": [
    {
     "data": {
      "text/html": [
       "<div>\n",
       "<style scoped>\n",
       "    .dataframe tbody tr th:only-of-type {\n",
       "        vertical-align: middle;\n",
       "    }\n",
       "\n",
       "    .dataframe tbody tr th {\n",
       "        vertical-align: top;\n",
       "    }\n",
       "\n",
       "    .dataframe thead th {\n",
       "        text-align: right;\n",
       "    }\n",
       "</style>\n",
       "<table border=\"1\" class=\"dataframe\">\n",
       "  <thead>\n",
       "    <tr style=\"text-align: right;\">\n",
       "      <th></th>\n",
       "      <th>15분</th>\n",
       "      <th>30분</th>\n",
       "      <th>45분</th>\n",
       "      <th>60분</th>\n",
       "    </tr>\n",
       "    <tr>\n",
       "      <th>DateHour</th>\n",
       "      <th></th>\n",
       "      <th></th>\n",
       "      <th></th>\n",
       "      <th></th>\n",
       "    </tr>\n",
       "  </thead>\n",
       "  <tbody>\n",
       "    <tr>\n",
       "      <td>2021-01-01 00:00:00</td>\n",
       "      <td>62</td>\n",
       "      <td>61</td>\n",
       "      <td>61</td>\n",
       "      <td>61</td>\n",
       "    </tr>\n",
       "    <tr>\n",
       "      <td>2021-01-01 01:00:00</td>\n",
       "      <td>96</td>\n",
       "      <td>93</td>\n",
       "      <td>116</td>\n",
       "      <td>113</td>\n",
       "    </tr>\n",
       "    <tr>\n",
       "      <td>2021-01-01 02:00:00</td>\n",
       "      <td>106</td>\n",
       "      <td>96</td>\n",
       "      <td>106</td>\n",
       "      <td>107</td>\n",
       "    </tr>\n",
       "    <tr>\n",
       "      <td>2021-01-01 03:00:00</td>\n",
       "      <td>92</td>\n",
       "      <td>110</td>\n",
       "      <td>110</td>\n",
       "      <td>109</td>\n",
       "    </tr>\n",
       "    <tr>\n",
       "      <td>2021-01-01 04:00:00</td>\n",
       "      <td>108</td>\n",
       "      <td>105</td>\n",
       "      <td>106</td>\n",
       "      <td>108</td>\n",
       "    </tr>\n",
       "  </tbody>\n",
       "</table>\n",
       "</div>"
      ],
      "text/plain": [
       "                     15분  30분  45분  60분\n",
       "DateHour                               \n",
       "2021-01-01 00:00:00   62   61   61   61\n",
       "2021-01-01 01:00:00   96   93  116  113\n",
       "2021-01-01 02:00:00  106   96  106  107\n",
       "2021-01-01 03:00:00   92  110  110  109\n",
       "2021-01-01 04:00:00  108  105  106  108"
      ]
     },
     "execution_count": 119,
     "metadata": {},
     "output_type": "execute_result"
    }
   ],
   "source": [
    "# 방법1: unstack\n",
    "# unstack은 default로 index의 맨 우측 값을 Column으로 전환시킵니다.\n",
    "# 인덱스를 DateHour, Minute로 지정하고 불필요한 Date를 삭제한후 \n",
    "# unstack을 통해 전환시킵니다.\n",
    "df_elec1 = df_elec.set_index(['DateHour', 'Minute']).drop(columns=['Date']).unstack()\n",
    "df_elec1.columns = ['15분', '30분', '45분', '60분']\n",
    "df_elec1.head()"
   ]
  },
  {
   "cell_type": "code",
   "execution_count": 120,
   "id": "7817ba09",
   "metadata": {},
   "outputs": [
    {
     "data": {
      "text/html": [
       "<div>\n",
       "<style scoped>\n",
       "    .dataframe tbody tr th:only-of-type {\n",
       "        vertical-align: middle;\n",
       "    }\n",
       "\n",
       "    .dataframe tbody tr th {\n",
       "        vertical-align: top;\n",
       "    }\n",
       "\n",
       "    .dataframe thead th {\n",
       "        text-align: right;\n",
       "    }\n",
       "</style>\n",
       "<table border=\"1\" class=\"dataframe\">\n",
       "  <thead>\n",
       "    <tr style=\"text-align: right;\">\n",
       "      <th>Minute</th>\n",
       "      <th>15분</th>\n",
       "      <th>30분</th>\n",
       "      <th>45분</th>\n",
       "      <th>60분</th>\n",
       "    </tr>\n",
       "    <tr>\n",
       "      <th>DateHour</th>\n",
       "      <th></th>\n",
       "      <th></th>\n",
       "      <th></th>\n",
       "      <th></th>\n",
       "    </tr>\n",
       "  </thead>\n",
       "  <tbody>\n",
       "    <tr>\n",
       "      <td>2021-01-01 00:00:00</td>\n",
       "      <td>62</td>\n",
       "      <td>61</td>\n",
       "      <td>61</td>\n",
       "      <td>61</td>\n",
       "    </tr>\n",
       "    <tr>\n",
       "      <td>2021-01-01 01:00:00</td>\n",
       "      <td>96</td>\n",
       "      <td>93</td>\n",
       "      <td>116</td>\n",
       "      <td>113</td>\n",
       "    </tr>\n",
       "    <tr>\n",
       "      <td>2021-01-01 02:00:00</td>\n",
       "      <td>106</td>\n",
       "      <td>96</td>\n",
       "      <td>106</td>\n",
       "      <td>107</td>\n",
       "    </tr>\n",
       "    <tr>\n",
       "      <td>2021-01-01 03:00:00</td>\n",
       "      <td>92</td>\n",
       "      <td>110</td>\n",
       "      <td>110</td>\n",
       "      <td>109</td>\n",
       "    </tr>\n",
       "    <tr>\n",
       "      <td>2021-01-01 04:00:00</td>\n",
       "      <td>108</td>\n",
       "      <td>105</td>\n",
       "      <td>106</td>\n",
       "      <td>108</td>\n",
       "    </tr>\n",
       "  </tbody>\n",
       "</table>\n",
       "</div>"
      ],
      "text/plain": [
       "Minute               15분  30분  45분  60분\n",
       "DateHour                               \n",
       "2021-01-01 00:00:00   62   61   61   61\n",
       "2021-01-01 01:00:00   96   93  116  113\n",
       "2021-01-01 02:00:00  106   96  106  107\n",
       "2021-01-01 03:00:00   92  110  110  109\n",
       "2021-01-01 04:00:00  108  105  106  108"
      ]
     },
     "execution_count": 120,
     "metadata": {},
     "output_type": "execute_result"
    }
   ],
   "source": [
    "# 방법2: pivot\n",
    "# pivot은 index(DateHour), columns(Minute)에 대한 교차값이 하나씩만 존재할 때 성립합니다.\n",
    "# 만일 없으면, 결측치가 들어 갑니다.\n",
    "df_elec1 = df_elec.pivot(index='DateHour', columns='Minute', values='Value')\n",
    "df_elec1.head()"
   ]
  },
  {
   "cell_type": "code",
   "execution_count": 121,
   "id": "86177044",
   "metadata": {},
   "outputs": [
    {
     "data": {
      "text/html": [
       "<div>\n",
       "<style scoped>\n",
       "    .dataframe tbody tr th:only-of-type {\n",
       "        vertical-align: middle;\n",
       "    }\n",
       "\n",
       "    .dataframe tbody tr th {\n",
       "        vertical-align: top;\n",
       "    }\n",
       "\n",
       "    .dataframe thead th {\n",
       "        text-align: right;\n",
       "    }\n",
       "</style>\n",
       "<table border=\"1\" class=\"dataframe\">\n",
       "  <thead>\n",
       "    <tr style=\"text-align: right;\">\n",
       "      <th>Minute</th>\n",
       "      <th>15분</th>\n",
       "      <th>30분</th>\n",
       "      <th>45분</th>\n",
       "      <th>60분</th>\n",
       "    </tr>\n",
       "    <tr>\n",
       "      <th>DateHour</th>\n",
       "      <th></th>\n",
       "      <th></th>\n",
       "      <th></th>\n",
       "      <th></th>\n",
       "    </tr>\n",
       "  </thead>\n",
       "  <tbody>\n",
       "    <tr>\n",
       "      <td>2021-01-01 00:00:00</td>\n",
       "      <td>62</td>\n",
       "      <td>61</td>\n",
       "      <td>61</td>\n",
       "      <td>61</td>\n",
       "    </tr>\n",
       "    <tr>\n",
       "      <td>2021-01-01 01:00:00</td>\n",
       "      <td>96</td>\n",
       "      <td>93</td>\n",
       "      <td>116</td>\n",
       "      <td>113</td>\n",
       "    </tr>\n",
       "    <tr>\n",
       "      <td>2021-01-01 02:00:00</td>\n",
       "      <td>106</td>\n",
       "      <td>96</td>\n",
       "      <td>106</td>\n",
       "      <td>107</td>\n",
       "    </tr>\n",
       "    <tr>\n",
       "      <td>2021-01-01 03:00:00</td>\n",
       "      <td>92</td>\n",
       "      <td>110</td>\n",
       "      <td>110</td>\n",
       "      <td>109</td>\n",
       "    </tr>\n",
       "    <tr>\n",
       "      <td>2021-01-01 04:00:00</td>\n",
       "      <td>108</td>\n",
       "      <td>105</td>\n",
       "      <td>106</td>\n",
       "      <td>108</td>\n",
       "    </tr>\n",
       "    <tr>\n",
       "      <td>...</td>\n",
       "      <td>...</td>\n",
       "      <td>...</td>\n",
       "      <td>...</td>\n",
       "      <td>...</td>\n",
       "    </tr>\n",
       "    <tr>\n",
       "      <td>2021-09-14 19:00:00</td>\n",
       "      <td>152</td>\n",
       "      <td>151</td>\n",
       "      <td>171</td>\n",
       "      <td>139</td>\n",
       "    </tr>\n",
       "    <tr>\n",
       "      <td>2021-09-14 20:00:00</td>\n",
       "      <td>124</td>\n",
       "      <td>130</td>\n",
       "      <td>128</td>\n",
       "      <td>130</td>\n",
       "    </tr>\n",
       "    <tr>\n",
       "      <td>2021-09-14 21:00:00</td>\n",
       "      <td>134</td>\n",
       "      <td>130</td>\n",
       "      <td>125</td>\n",
       "      <td>124</td>\n",
       "    </tr>\n",
       "    <tr>\n",
       "      <td>2021-09-14 22:00:00</td>\n",
       "      <td>100</td>\n",
       "      <td>109</td>\n",
       "      <td>120</td>\n",
       "      <td>114</td>\n",
       "    </tr>\n",
       "    <tr>\n",
       "      <td>2021-09-14 23:00:00</td>\n",
       "      <td>117</td>\n",
       "      <td>119</td>\n",
       "      <td>112</td>\n",
       "      <td>91</td>\n",
       "    </tr>\n",
       "  </tbody>\n",
       "</table>\n",
       "<p>6168 rows × 4 columns</p>\n",
       "</div>"
      ],
      "text/plain": [
       "Minute               15분  30분  45분  60분\n",
       "DateHour                               \n",
       "2021-01-01 00:00:00   62   61   61   61\n",
       "2021-01-01 01:00:00   96   93  116  113\n",
       "2021-01-01 02:00:00  106   96  106  107\n",
       "2021-01-01 03:00:00   92  110  110  109\n",
       "2021-01-01 04:00:00  108  105  106  108\n",
       "...                  ...  ...  ...  ...\n",
       "2021-09-14 19:00:00  152  151  171  139\n",
       "2021-09-14 20:00:00  124  130  128  130\n",
       "2021-09-14 21:00:00  134  130  125  124\n",
       "2021-09-14 22:00:00  100  109  120  114\n",
       "2021-09-14 23:00:00  117  119  112   91\n",
       "\n",
       "[6168 rows x 4 columns]"
      ]
     },
     "execution_count": 121,
     "metadata": {},
     "output_type": "execute_result"
    }
   ],
   "source": [
    "# 참고: \n",
    "# pivot_table은 index(DateHour), columns(Minute)에 대해 교차값이 여러 개 존재할 경우, 해당 값들에 대한 연산을 정의하여\n",
    "# DateFrame을 재구성합니다.\n",
    "df_elec.pivot_table(index='DateHour', columns='Minute', values='Value', aggfunc='mean')"
   ]
  },
  {
   "cell_type": "markdown",
   "id": "531466c2",
   "metadata": {},
   "source": [
    "## 단계 2\n",
    "\n",
    "데이터셋 elec1의 DateHour 변수를 이용하여 아래의 파생변수를 생성한다.\n",
    "\n",
    "̵ 요일명(DayName): DateHour 변수에서 요일명을 숫자로 추출, 0(월)~6(일)으로 반환\n",
    "\n",
    "̵ 시간(Hour): DateHour 변수에서 시간 추출\n",
    "\n",
    "̵ 오전/오후(AM): 생성한 시간(Hour) 변수를 기준으로 \n",
    "\n",
    " 12시 전( < 12:00)은 오전(0), 이후(>= 12:00)는 오후(1)로 표기, 이때 표기는 숫자 0, 1로 표기\n",
    " \n",
    "̵ 주말유무(Weekend_yn): 생성한 요일명(DayName) 변수를 이용하여 5,6이면 1(주말), 그외는 0(평일) 로 표기\n",
    "\n",
    "̵ 공휴일(Holiday_yn): 다음은 공휴일 목록임\n",
    "\n",
    "  [\"2021-01-01\", \"2021-02-11\", \"2021-02-12\", \"2021-03-01\", \"2021-05-05\", \"2021-05-19\", \"2021-08-16\"], \n",
    "\n",
    "  목록에 해당하면 1, 아니면 0로 표기한다. DateHour의 일자를 기준으로 판별한다.\n",
    " \n",
    "̵ 최대수요전력 평균(Avg): 시간당 15분 간격(15분, 30분, 45분, 60분)으로 측정한 최대수요전력 (Value)의 평균값\n",
    "\n",
    "̵ 최대수요전력 합계(TotalHour): 시간당 15분 간격(15분, 30분, 45분, 60분)으로 측정한 최대수요전력 (Value)의 총합"
   ]
  },
  {
   "cell_type": "code",
   "execution_count": 122,
   "id": "173be3fd",
   "metadata": {},
   "outputs": [
    {
     "data": {
      "text/html": [
       "<div>\n",
       "<style scoped>\n",
       "    .dataframe tbody tr th:only-of-type {\n",
       "        vertical-align: middle;\n",
       "    }\n",
       "\n",
       "    .dataframe tbody tr th {\n",
       "        vertical-align: top;\n",
       "    }\n",
       "\n",
       "    .dataframe thead th {\n",
       "        text-align: right;\n",
       "    }\n",
       "</style>\n",
       "<table border=\"1\" class=\"dataframe\">\n",
       "  <thead>\n",
       "    <tr style=\"text-align: right;\">\n",
       "      <th>Minute</th>\n",
       "      <th>15분</th>\n",
       "      <th>30분</th>\n",
       "      <th>45분</th>\n",
       "      <th>60분</th>\n",
       "      <th>DayName</th>\n",
       "      <th>Hour</th>\n",
       "      <th>AM</th>\n",
       "      <th>Weekend_yn</th>\n",
       "      <th>Holiday_yn</th>\n",
       "      <th>Avg</th>\n",
       "      <th>TotalHour</th>\n",
       "    </tr>\n",
       "    <tr>\n",
       "      <th>DateHour</th>\n",
       "      <th></th>\n",
       "      <th></th>\n",
       "      <th></th>\n",
       "      <th></th>\n",
       "      <th></th>\n",
       "      <th></th>\n",
       "      <th></th>\n",
       "      <th></th>\n",
       "      <th></th>\n",
       "      <th></th>\n",
       "      <th></th>\n",
       "    </tr>\n",
       "  </thead>\n",
       "  <tbody>\n",
       "    <tr>\n",
       "      <td>2021-01-01 00:00:00</td>\n",
       "      <td>62</td>\n",
       "      <td>61</td>\n",
       "      <td>61</td>\n",
       "      <td>61</td>\n",
       "      <td>4</td>\n",
       "      <td>0</td>\n",
       "      <td>0</td>\n",
       "      <td>0</td>\n",
       "      <td>1</td>\n",
       "      <td>61.25</td>\n",
       "      <td>245</td>\n",
       "    </tr>\n",
       "    <tr>\n",
       "      <td>2021-01-01 01:00:00</td>\n",
       "      <td>96</td>\n",
       "      <td>93</td>\n",
       "      <td>116</td>\n",
       "      <td>113</td>\n",
       "      <td>4</td>\n",
       "      <td>1</td>\n",
       "      <td>0</td>\n",
       "      <td>0</td>\n",
       "      <td>1</td>\n",
       "      <td>104.50</td>\n",
       "      <td>418</td>\n",
       "    </tr>\n",
       "    <tr>\n",
       "      <td>2021-01-01 02:00:00</td>\n",
       "      <td>106</td>\n",
       "      <td>96</td>\n",
       "      <td>106</td>\n",
       "      <td>107</td>\n",
       "      <td>4</td>\n",
       "      <td>2</td>\n",
       "      <td>0</td>\n",
       "      <td>0</td>\n",
       "      <td>1</td>\n",
       "      <td>103.75</td>\n",
       "      <td>415</td>\n",
       "    </tr>\n",
       "    <tr>\n",
       "      <td>2021-01-01 03:00:00</td>\n",
       "      <td>92</td>\n",
       "      <td>110</td>\n",
       "      <td>110</td>\n",
       "      <td>109</td>\n",
       "      <td>4</td>\n",
       "      <td>3</td>\n",
       "      <td>0</td>\n",
       "      <td>0</td>\n",
       "      <td>1</td>\n",
       "      <td>105.25</td>\n",
       "      <td>421</td>\n",
       "    </tr>\n",
       "    <tr>\n",
       "      <td>2021-01-01 04:00:00</td>\n",
       "      <td>108</td>\n",
       "      <td>105</td>\n",
       "      <td>106</td>\n",
       "      <td>108</td>\n",
       "      <td>4</td>\n",
       "      <td>4</td>\n",
       "      <td>0</td>\n",
       "      <td>0</td>\n",
       "      <td>1</td>\n",
       "      <td>106.75</td>\n",
       "      <td>427</td>\n",
       "    </tr>\n",
       "  </tbody>\n",
       "</table>\n",
       "</div>"
      ],
      "text/plain": [
       "Minute               15분  30분  45분  60분  DayName  Hour  AM  Weekend_yn  \\\n",
       "DateHour                                                                 \n",
       "2021-01-01 00:00:00   62   61   61   61        4     0   0           0   \n",
       "2021-01-01 01:00:00   96   93  116  113        4     1   0           0   \n",
       "2021-01-01 02:00:00  106   96  106  107        4     2   0           0   \n",
       "2021-01-01 03:00:00   92  110  110  109        4     3   0           0   \n",
       "2021-01-01 04:00:00  108  105  106  108        4     4   0           0   \n",
       "\n",
       "Minute               Holiday_yn     Avg  TotalHour  \n",
       "DateHour                                            \n",
       "2021-01-01 00:00:00           1   61.25        245  \n",
       "2021-01-01 01:00:00           1  104.50        418  \n",
       "2021-01-01 02:00:00           1  103.75        415  \n",
       "2021-01-01 03:00:00           1  105.25        421  \n",
       "2021-01-01 04:00:00           1  106.75        427  "
      ]
     },
     "execution_count": 122,
     "metadata": {},
     "output_type": "execute_result"
    }
   ],
   "source": [
    "holi = pd.to_datetime([\"2021-01-01\", \"2021-02-11\", \"2021-02-12\", \"2021-03-01\", \"2021-05-05\", \"2021-05-19\", \"2021-08-16\"]).date\n",
    "min_cols = ['15분', '30분', '45분', '60분']\n",
    "\n",
    "# df_elec1.index는 Datetimeindex입니다. p.Series.dt Accessor와 거의 동일하게 사용할 수 있습니다.\n",
    "# assign은 변수를 만들면서, deep copy를 할 수 있는 명령입니다. 매개변수명이 변수고 매개변수가 값이 형태로 생깁니다.\n",
    "\n",
    "df_elec1 = df_elec1.assign(\n",
    "    DayName = df_elec1.index.weekday, # 요일을 뽑아옵니다\n",
    "    Hour = df_elec1.index.hour, # 시간을 뽑아옵니다.\n",
    "    AM = (df_elec1.index.hour >= 12).astype(int),\n",
    "    Weekend_yn = df_elec1.index.weekday.isin([5, 6]).astype(int), # isin을 통해 리스트 안의 값에 해당하는지 봅니다.\n",
    "    Holiday_yn = np.isin(df_elec1.index.date, holi).astype(int), # 일자만을 뽑아 비교합니다.\n",
    "    Avg = df_elec1[min_cols].mean(axis=1), # 평균 \n",
    "    TotalHour = df_elec1[min_cols].sum(axis=1) # 합계\n",
    ")\n",
    "df_elec1.head()"
   ]
  },
  {
   "cell_type": "markdown",
   "id": "d0c60eca",
   "metadata": {},
   "source": [
    "## 단계 3\n",
    "    \n",
    "info데이터셋에 결측치가 존재한다. 이 때 발생된 결측치들은 0으로 변경하시오. \n",
    "\n",
    "- 풍속, 강수량은 바람이 불지 않는 경우, 비가 오지 않는 경우 기록되지 않는 경우가 존재함, 이는 0의 의미임\n",
    "\n",
    "- 공장인원의 경우 생산량이 없다던가 인력이 필요하지 않은 경우 기록되지 않는 경우가 존재함, 이는 0의 의미임\n",
    "\n",
    "- 결측치를 처리한 후 데이터셋명은 info1로 표기함\n"
   ]
  },
  {
   "cell_type": "code",
   "execution_count": 123,
   "id": "82c74ecd",
   "metadata": {},
   "outputs": [
    {
     "data": {
      "text/html": [
       "<div>\n",
       "<style scoped>\n",
       "    .dataframe tbody tr th:only-of-type {\n",
       "        vertical-align: middle;\n",
       "    }\n",
       "\n",
       "    .dataframe tbody tr th {\n",
       "        vertical-align: top;\n",
       "    }\n",
       "\n",
       "    .dataframe thead th {\n",
       "        text-align: right;\n",
       "    }\n",
       "</style>\n",
       "<table border=\"1\" class=\"dataframe\">\n",
       "  <thead>\n",
       "    <tr style=\"text-align: right;\">\n",
       "      <th></th>\n",
       "      <th>Date</th>\n",
       "      <th>생산량</th>\n",
       "      <th>기온</th>\n",
       "      <th>풍속</th>\n",
       "      <th>습도</th>\n",
       "      <th>강수량</th>\n",
       "      <th>전기요금(계절)</th>\n",
       "      <th>공장인원</th>\n",
       "      <th>인건비</th>\n",
       "    </tr>\n",
       "  </thead>\n",
       "  <tbody>\n",
       "    <tr>\n",
       "      <td>0</td>\n",
       "      <td>2021-01-01 00:00:00</td>\n",
       "      <td>0</td>\n",
       "      <td>-3.2</td>\n",
       "      <td>2.4</td>\n",
       "      <td>71</td>\n",
       "      <td>0.0</td>\n",
       "      <td>109.8</td>\n",
       "      <td>0.0</td>\n",
       "      <td>1.5</td>\n",
       "    </tr>\n",
       "    <tr>\n",
       "      <td>1</td>\n",
       "      <td>2021-01-01 01:00:00</td>\n",
       "      <td>0</td>\n",
       "      <td>-4.5</td>\n",
       "      <td>1.5</td>\n",
       "      <td>77</td>\n",
       "      <td>0.0</td>\n",
       "      <td>109.8</td>\n",
       "      <td>0.0</td>\n",
       "      <td>1.5</td>\n",
       "    </tr>\n",
       "    <tr>\n",
       "      <td>2</td>\n",
       "      <td>2021-01-01 02:00:00</td>\n",
       "      <td>0</td>\n",
       "      <td>-3.9</td>\n",
       "      <td>2.6</td>\n",
       "      <td>58</td>\n",
       "      <td>0.0</td>\n",
       "      <td>109.8</td>\n",
       "      <td>0.0</td>\n",
       "      <td>1.5</td>\n",
       "    </tr>\n",
       "    <tr>\n",
       "      <td>3</td>\n",
       "      <td>2021-01-01 03:00:00</td>\n",
       "      <td>0</td>\n",
       "      <td>-4.1</td>\n",
       "      <td>2.6</td>\n",
       "      <td>56</td>\n",
       "      <td>0.0</td>\n",
       "      <td>109.8</td>\n",
       "      <td>0.0</td>\n",
       "      <td>1.5</td>\n",
       "    </tr>\n",
       "    <tr>\n",
       "      <td>4</td>\n",
       "      <td>2021-01-01 04:00:00</td>\n",
       "      <td>0</td>\n",
       "      <td>-4.6</td>\n",
       "      <td>2.6</td>\n",
       "      <td>60</td>\n",
       "      <td>0.0</td>\n",
       "      <td>109.8</td>\n",
       "      <td>0.0</td>\n",
       "      <td>1.5</td>\n",
       "    </tr>\n",
       "  </tbody>\n",
       "</table>\n",
       "</div>"
      ],
      "text/plain": [
       "                  Date  생산량   기온   풍속  습도  강수량  전기요금(계절)  공장인원  인건비\n",
       "0  2021-01-01 00:00:00    0 -3.2  2.4  71  0.0     109.8   0.0  1.5\n",
       "1  2021-01-01 01:00:00    0 -4.5  1.5  77  0.0     109.8   0.0  1.5\n",
       "2  2021-01-01 02:00:00    0 -3.9  2.6  58  0.0     109.8   0.0  1.5\n",
       "3  2021-01-01 03:00:00    0 -4.1  2.6  56  0.0     109.8   0.0  1.5\n",
       "4  2021-01-01 04:00:00    0 -4.6  2.6  60  0.0     109.8   0.0  1.5"
      ]
     },
     "execution_count": 123,
     "metadata": {},
     "output_type": "execute_result"
    }
   ],
   "source": [
    "df_info = pd.read_csv('info.csv')\n",
    "df_info.head()"
   ]
  },
  {
   "cell_type": "code",
   "execution_count": 124,
   "id": "4fd7ff6f",
   "metadata": {},
   "outputs": [
    {
     "name": "stdout",
     "output_type": "stream",
     "text": [
      "<class 'pandas.core.frame.DataFrame'>\n",
      "RangeIndex: 6168 entries, 0 to 6167\n",
      "Data columns (total 9 columns):\n",
      "Date        6168 non-null object\n",
      "생산량         6168 non-null int64\n",
      "기온          6168 non-null float64\n",
      "풍속          6165 non-null float64\n",
      "습도          6168 non-null int64\n",
      "강수량         6167 non-null float64\n",
      "전기요금(계절)    6168 non-null float64\n",
      "공장인원        6151 non-null float64\n",
      "인건비         6168 non-null float64\n",
      "dtypes: float64(6), int64(2), object(1)\n",
      "memory usage: 433.8+ KB\n"
     ]
    }
   ],
   "source": [
    "df_info.info()"
   ]
  },
  {
   "cell_type": "code",
   "execution_count": 125,
   "id": "dab71a8c",
   "metadata": {},
   "outputs": [
    {
     "name": "stdout",
     "output_type": "stream",
     "text": [
      "<class 'pandas.core.frame.DataFrame'>\n",
      "RangeIndex: 6168 entries, 0 to 6167\n",
      "Data columns (total 9 columns):\n",
      "Date        6168 non-null datetime64[ns]\n",
      "생산량         6168 non-null int64\n",
      "기온          6168 non-null float64\n",
      "풍속          6168 non-null float64\n",
      "습도          6168 non-null int64\n",
      "강수량         6168 non-null float64\n",
      "전기요금(계절)    6168 non-null float64\n",
      "공장인원        6168 non-null float64\n",
      "인건비         6168 non-null float64\n",
      "dtypes: datetime64[ns](1), float64(6), int64(2)\n",
      "memory usage: 433.8 KB\n"
     ]
    }
   ],
   "source": [
    "# pd.to_datetime으로 문자열을 datetime 형식으로 바꿔 봅니다.\n",
    "df_info['Date'] = pd.to_datetime(df_info['Date'])\n",
    "df_info1 = df_info.fillna(0) # 결측을 모두 0으로 대치하고 info1에 넣습니다.\n",
    "df_info1.info()"
   ]
  },
  {
   "cell_type": "markdown",
   "id": "8a21d0df",
   "metadata": {},
   "source": [
    "## 단계 4\n",
    "\n",
    "elec1와 info1 데이터프레임을 결합하시오. \n",
    "\n",
    "결합 시 elec1데이터셋 에서는 DateHour 변수, info1데이터셋 에서는 Date 변수를 기준으로 inner join하시오.\n",
    "\n",
    "\n",
    "- elec1 데이터셋에 info1을 데이터셋 결합\n",
    " \n",
    "- 결합 방식: inner join, elec1.DateHour == info1.Date\n",
    " \n",
    "- 결합 후 Date와 DateHour 같다. 두 변수를 이름을 DateHour 하여 하나만 남긴다.\n",
    " \n",
    "- 결합 후 생성된 데이터셋명 basetable1로 표기(6,168 rows, 20 columns)\n"
   ]
  },
  {
   "cell_type": "code",
   "execution_count": 126,
   "id": "1d810cc3",
   "metadata": {},
   "outputs": [
    {
     "data": {
      "text/plain": [
       "(6168, 19)"
      ]
     },
     "execution_count": 126,
     "metadata": {},
     "output_type": "execute_result"
    }
   ],
   "source": [
    "# 방법1: merge\n",
    "# merge는 caller(호출자, left_on), callee(피호출자, right_on)을 컬럼(인덱스에 명칭이 부여됐을 경우, 인덱스 사용가)을\n",
    "# 기준으로 결합니다.\n",
    "df_basetable1 = df_elec1.merge(df_info1, left_on='DateHour', right_on='Date', how='inner')\\\n",
    "        .rename(columns={'Date': 'DateHour'}).set_index('DateHour')\n",
    "df_basetable1.shape"
   ]
  },
  {
   "cell_type": "code",
   "execution_count": 127,
   "id": "e457a3fe",
   "metadata": {},
   "outputs": [
    {
     "data": {
      "text/html": [
       "<div>\n",
       "<style scoped>\n",
       "    .dataframe tbody tr th:only-of-type {\n",
       "        vertical-align: middle;\n",
       "    }\n",
       "\n",
       "    .dataframe tbody tr th {\n",
       "        vertical-align: top;\n",
       "    }\n",
       "\n",
       "    .dataframe thead th {\n",
       "        text-align: right;\n",
       "    }\n",
       "</style>\n",
       "<table border=\"1\" class=\"dataframe\">\n",
       "  <thead>\n",
       "    <tr style=\"text-align: right;\">\n",
       "      <th></th>\n",
       "      <th>15분</th>\n",
       "      <th>30분</th>\n",
       "      <th>45분</th>\n",
       "      <th>60분</th>\n",
       "      <th>DayName</th>\n",
       "      <th>Hour</th>\n",
       "      <th>AM</th>\n",
       "      <th>Weekend_yn</th>\n",
       "      <th>Holiday_yn</th>\n",
       "      <th>Avg</th>\n",
       "      <th>TotalHour</th>\n",
       "      <th>생산량</th>\n",
       "      <th>기온</th>\n",
       "      <th>풍속</th>\n",
       "      <th>습도</th>\n",
       "      <th>강수량</th>\n",
       "      <th>전기요금(계절)</th>\n",
       "      <th>공장인원</th>\n",
       "      <th>인건비</th>\n",
       "    </tr>\n",
       "    <tr>\n",
       "      <th>DateHour</th>\n",
       "      <th></th>\n",
       "      <th></th>\n",
       "      <th></th>\n",
       "      <th></th>\n",
       "      <th></th>\n",
       "      <th></th>\n",
       "      <th></th>\n",
       "      <th></th>\n",
       "      <th></th>\n",
       "      <th></th>\n",
       "      <th></th>\n",
       "      <th></th>\n",
       "      <th></th>\n",
       "      <th></th>\n",
       "      <th></th>\n",
       "      <th></th>\n",
       "      <th></th>\n",
       "      <th></th>\n",
       "      <th></th>\n",
       "    </tr>\n",
       "  </thead>\n",
       "  <tbody>\n",
       "    <tr>\n",
       "      <td>2021-01-01 00:00:00</td>\n",
       "      <td>62</td>\n",
       "      <td>61</td>\n",
       "      <td>61</td>\n",
       "      <td>61</td>\n",
       "      <td>4</td>\n",
       "      <td>0</td>\n",
       "      <td>0</td>\n",
       "      <td>0</td>\n",
       "      <td>1</td>\n",
       "      <td>61.25</td>\n",
       "      <td>245</td>\n",
       "      <td>0</td>\n",
       "      <td>-3.2</td>\n",
       "      <td>2.4</td>\n",
       "      <td>71</td>\n",
       "      <td>0.0</td>\n",
       "      <td>109.8</td>\n",
       "      <td>0.0</td>\n",
       "      <td>1.5</td>\n",
       "    </tr>\n",
       "    <tr>\n",
       "      <td>2021-01-01 01:00:00</td>\n",
       "      <td>96</td>\n",
       "      <td>93</td>\n",
       "      <td>116</td>\n",
       "      <td>113</td>\n",
       "      <td>4</td>\n",
       "      <td>1</td>\n",
       "      <td>0</td>\n",
       "      <td>0</td>\n",
       "      <td>1</td>\n",
       "      <td>104.50</td>\n",
       "      <td>418</td>\n",
       "      <td>0</td>\n",
       "      <td>-4.5</td>\n",
       "      <td>1.5</td>\n",
       "      <td>77</td>\n",
       "      <td>0.0</td>\n",
       "      <td>109.8</td>\n",
       "      <td>0.0</td>\n",
       "      <td>1.5</td>\n",
       "    </tr>\n",
       "    <tr>\n",
       "      <td>2021-01-01 02:00:00</td>\n",
       "      <td>106</td>\n",
       "      <td>96</td>\n",
       "      <td>106</td>\n",
       "      <td>107</td>\n",
       "      <td>4</td>\n",
       "      <td>2</td>\n",
       "      <td>0</td>\n",
       "      <td>0</td>\n",
       "      <td>1</td>\n",
       "      <td>103.75</td>\n",
       "      <td>415</td>\n",
       "      <td>0</td>\n",
       "      <td>-3.9</td>\n",
       "      <td>2.6</td>\n",
       "      <td>58</td>\n",
       "      <td>0.0</td>\n",
       "      <td>109.8</td>\n",
       "      <td>0.0</td>\n",
       "      <td>1.5</td>\n",
       "    </tr>\n",
       "    <tr>\n",
       "      <td>2021-01-01 03:00:00</td>\n",
       "      <td>92</td>\n",
       "      <td>110</td>\n",
       "      <td>110</td>\n",
       "      <td>109</td>\n",
       "      <td>4</td>\n",
       "      <td>3</td>\n",
       "      <td>0</td>\n",
       "      <td>0</td>\n",
       "      <td>1</td>\n",
       "      <td>105.25</td>\n",
       "      <td>421</td>\n",
       "      <td>0</td>\n",
       "      <td>-4.1</td>\n",
       "      <td>2.6</td>\n",
       "      <td>56</td>\n",
       "      <td>0.0</td>\n",
       "      <td>109.8</td>\n",
       "      <td>0.0</td>\n",
       "      <td>1.5</td>\n",
       "    </tr>\n",
       "    <tr>\n",
       "      <td>2021-01-01 04:00:00</td>\n",
       "      <td>108</td>\n",
       "      <td>105</td>\n",
       "      <td>106</td>\n",
       "      <td>108</td>\n",
       "      <td>4</td>\n",
       "      <td>4</td>\n",
       "      <td>0</td>\n",
       "      <td>0</td>\n",
       "      <td>1</td>\n",
       "      <td>106.75</td>\n",
       "      <td>427</td>\n",
       "      <td>0</td>\n",
       "      <td>-4.6</td>\n",
       "      <td>2.6</td>\n",
       "      <td>60</td>\n",
       "      <td>0.0</td>\n",
       "      <td>109.8</td>\n",
       "      <td>0.0</td>\n",
       "      <td>1.5</td>\n",
       "    </tr>\n",
       "  </tbody>\n",
       "</table>\n",
       "</div>"
      ],
      "text/plain": [
       "                     15분  30분  45분  60분  DayName  Hour  AM  Weekend_yn  \\\n",
       "DateHour                                                                 \n",
       "2021-01-01 00:00:00   62   61   61   61        4     0   0           0   \n",
       "2021-01-01 01:00:00   96   93  116  113        4     1   0           0   \n",
       "2021-01-01 02:00:00  106   96  106  107        4     2   0           0   \n",
       "2021-01-01 03:00:00   92  110  110  109        4     3   0           0   \n",
       "2021-01-01 04:00:00  108  105  106  108        4     4   0           0   \n",
       "\n",
       "                     Holiday_yn     Avg  TotalHour  생산량   기온   풍속  습도  강수량  \\\n",
       "DateHour                                                                     \n",
       "2021-01-01 00:00:00           1   61.25        245    0 -3.2  2.4  71  0.0   \n",
       "2021-01-01 01:00:00           1  104.50        418    0 -4.5  1.5  77  0.0   \n",
       "2021-01-01 02:00:00           1  103.75        415    0 -3.9  2.6  58  0.0   \n",
       "2021-01-01 03:00:00           1  105.25        421    0 -4.1  2.6  56  0.0   \n",
       "2021-01-01 04:00:00           1  106.75        427    0 -4.6  2.6  60  0.0   \n",
       "\n",
       "                     전기요금(계절)  공장인원  인건비  \n",
       "DateHour                                  \n",
       "2021-01-01 00:00:00     109.8   0.0  1.5  \n",
       "2021-01-01 01:00:00     109.8   0.0  1.5  \n",
       "2021-01-01 02:00:00     109.8   0.0  1.5  \n",
       "2021-01-01 03:00:00     109.8   0.0  1.5  \n",
       "2021-01-01 04:00:00     109.8   0.0  1.5  "
      ]
     },
     "execution_count": 127,
     "metadata": {},
     "output_type": "execute_result"
    }
   ],
   "source": [
    "df_basetable1.head()"
   ]
  },
  {
   "cell_type": "code",
   "execution_count": 128,
   "id": "e48b7589",
   "metadata": {},
   "outputs": [
    {
     "data": {
      "text/plain": [
       "(6168, 19)"
      ]
     },
     "execution_count": 128,
     "metadata": {},
     "output_type": "execute_result"
    }
   ],
   "source": [
    "# 방법2: join\n",
    "# join은 caller(호출자, on)의 컬럼, callee(피호출자)의 인덱스 기준으로 결합니다.\n",
    "# 따라서 df_info1의 'Date'를 set_index를 통해 인덱스 영역에 위치 시킵니다.\n",
    "df_basetable1 = df_elec1.join(df_info1.set_index('Date'), on='DateHour', how='inner')\n",
    "df_basetable1.shape"
   ]
  },
  {
   "cell_type": "code",
   "execution_count": null,
   "id": "b9b05b36",
   "metadata": {},
   "outputs": [],
   "source": []
  },
  {
   "cell_type": "markdown",
   "id": "726dc919",
   "metadata": {},
   "source": [
    "# 문제 1\n",
    "\n",
    "basetable1을 이용하여 다음 질문에 답하시오."
   ]
  },
  {
   "cell_type": "code",
   "execution_count": 129,
   "id": "b5589688",
   "metadata": {},
   "outputs": [
    {
     "data": {
      "text/html": [
       "<div>\n",
       "<style scoped>\n",
       "    .dataframe tbody tr th:only-of-type {\n",
       "        vertical-align: middle;\n",
       "    }\n",
       "\n",
       "    .dataframe tbody tr th {\n",
       "        vertical-align: top;\n",
       "    }\n",
       "\n",
       "    .dataframe thead th {\n",
       "        text-align: right;\n",
       "    }\n",
       "</style>\n",
       "<table border=\"1\" class=\"dataframe\">\n",
       "  <thead>\n",
       "    <tr style=\"text-align: right;\">\n",
       "      <th></th>\n",
       "      <th>15분</th>\n",
       "      <th>30분</th>\n",
       "      <th>45분</th>\n",
       "      <th>60분</th>\n",
       "      <th>DayName</th>\n",
       "      <th>Hour</th>\n",
       "      <th>AM</th>\n",
       "      <th>Weekend_yn</th>\n",
       "      <th>Holiday_yn</th>\n",
       "      <th>Avg</th>\n",
       "      <th>TotalHour</th>\n",
       "      <th>생산량</th>\n",
       "      <th>기온</th>\n",
       "      <th>풍속</th>\n",
       "      <th>습도</th>\n",
       "      <th>강수량</th>\n",
       "      <th>전기요금(계절)</th>\n",
       "      <th>공장인원</th>\n",
       "      <th>인건비</th>\n",
       "    </tr>\n",
       "    <tr>\n",
       "      <th>DateHour</th>\n",
       "      <th></th>\n",
       "      <th></th>\n",
       "      <th></th>\n",
       "      <th></th>\n",
       "      <th></th>\n",
       "      <th></th>\n",
       "      <th></th>\n",
       "      <th></th>\n",
       "      <th></th>\n",
       "      <th></th>\n",
       "      <th></th>\n",
       "      <th></th>\n",
       "      <th></th>\n",
       "      <th></th>\n",
       "      <th></th>\n",
       "      <th></th>\n",
       "      <th></th>\n",
       "      <th></th>\n",
       "      <th></th>\n",
       "    </tr>\n",
       "  </thead>\n",
       "  <tbody>\n",
       "    <tr>\n",
       "      <td>2021-01-01 00:00:00</td>\n",
       "      <td>62</td>\n",
       "      <td>61</td>\n",
       "      <td>61</td>\n",
       "      <td>61</td>\n",
       "      <td>4</td>\n",
       "      <td>0</td>\n",
       "      <td>0</td>\n",
       "      <td>0</td>\n",
       "      <td>1</td>\n",
       "      <td>61.25</td>\n",
       "      <td>245</td>\n",
       "      <td>0</td>\n",
       "      <td>-3.2</td>\n",
       "      <td>2.4</td>\n",
       "      <td>71</td>\n",
       "      <td>0.0</td>\n",
       "      <td>109.8</td>\n",
       "      <td>0.0</td>\n",
       "      <td>1.5</td>\n",
       "    </tr>\n",
       "    <tr>\n",
       "      <td>2021-01-01 01:00:00</td>\n",
       "      <td>96</td>\n",
       "      <td>93</td>\n",
       "      <td>116</td>\n",
       "      <td>113</td>\n",
       "      <td>4</td>\n",
       "      <td>1</td>\n",
       "      <td>0</td>\n",
       "      <td>0</td>\n",
       "      <td>1</td>\n",
       "      <td>104.50</td>\n",
       "      <td>418</td>\n",
       "      <td>0</td>\n",
       "      <td>-4.5</td>\n",
       "      <td>1.5</td>\n",
       "      <td>77</td>\n",
       "      <td>0.0</td>\n",
       "      <td>109.8</td>\n",
       "      <td>0.0</td>\n",
       "      <td>1.5</td>\n",
       "    </tr>\n",
       "    <tr>\n",
       "      <td>2021-01-01 02:00:00</td>\n",
       "      <td>106</td>\n",
       "      <td>96</td>\n",
       "      <td>106</td>\n",
       "      <td>107</td>\n",
       "      <td>4</td>\n",
       "      <td>2</td>\n",
       "      <td>0</td>\n",
       "      <td>0</td>\n",
       "      <td>1</td>\n",
       "      <td>103.75</td>\n",
       "      <td>415</td>\n",
       "      <td>0</td>\n",
       "      <td>-3.9</td>\n",
       "      <td>2.6</td>\n",
       "      <td>58</td>\n",
       "      <td>0.0</td>\n",
       "      <td>109.8</td>\n",
       "      <td>0.0</td>\n",
       "      <td>1.5</td>\n",
       "    </tr>\n",
       "    <tr>\n",
       "      <td>2021-01-01 03:00:00</td>\n",
       "      <td>92</td>\n",
       "      <td>110</td>\n",
       "      <td>110</td>\n",
       "      <td>109</td>\n",
       "      <td>4</td>\n",
       "      <td>3</td>\n",
       "      <td>0</td>\n",
       "      <td>0</td>\n",
       "      <td>1</td>\n",
       "      <td>105.25</td>\n",
       "      <td>421</td>\n",
       "      <td>0</td>\n",
       "      <td>-4.1</td>\n",
       "      <td>2.6</td>\n",
       "      <td>56</td>\n",
       "      <td>0.0</td>\n",
       "      <td>109.8</td>\n",
       "      <td>0.0</td>\n",
       "      <td>1.5</td>\n",
       "    </tr>\n",
       "    <tr>\n",
       "      <td>2021-01-01 04:00:00</td>\n",
       "      <td>108</td>\n",
       "      <td>105</td>\n",
       "      <td>106</td>\n",
       "      <td>108</td>\n",
       "      <td>4</td>\n",
       "      <td>4</td>\n",
       "      <td>0</td>\n",
       "      <td>0</td>\n",
       "      <td>1</td>\n",
       "      <td>106.75</td>\n",
       "      <td>427</td>\n",
       "      <td>0</td>\n",
       "      <td>-4.6</td>\n",
       "      <td>2.6</td>\n",
       "      <td>60</td>\n",
       "      <td>0.0</td>\n",
       "      <td>109.8</td>\n",
       "      <td>0.0</td>\n",
       "      <td>1.5</td>\n",
       "    </tr>\n",
       "  </tbody>\n",
       "</table>\n",
       "</div>"
      ],
      "text/plain": [
       "                     15분  30분  45분  60분  DayName  Hour  AM  Weekend_yn  \\\n",
       "DateHour                                                                 \n",
       "2021-01-01 00:00:00   62   61   61   61        4     0   0           0   \n",
       "2021-01-01 01:00:00   96   93  116  113        4     1   0           0   \n",
       "2021-01-01 02:00:00  106   96  106  107        4     2   0           0   \n",
       "2021-01-01 03:00:00   92  110  110  109        4     3   0           0   \n",
       "2021-01-01 04:00:00  108  105  106  108        4     4   0           0   \n",
       "\n",
       "                     Holiday_yn     Avg  TotalHour  생산량   기온   풍속  습도  강수량  \\\n",
       "DateHour                                                                     \n",
       "2021-01-01 00:00:00           1   61.25        245    0 -3.2  2.4  71  0.0   \n",
       "2021-01-01 01:00:00           1  104.50        418    0 -4.5  1.5  77  0.0   \n",
       "2021-01-01 02:00:00           1  103.75        415    0 -3.9  2.6  58  0.0   \n",
       "2021-01-01 03:00:00           1  105.25        421    0 -4.1  2.6  56  0.0   \n",
       "2021-01-01 04:00:00           1  106.75        427    0 -4.6  2.6  60  0.0   \n",
       "\n",
       "                     전기요금(계절)  공장인원  인건비  \n",
       "DateHour                                  \n",
       "2021-01-01 00:00:00     109.8   0.0  1.5  \n",
       "2021-01-01 01:00:00     109.8   0.0  1.5  \n",
       "2021-01-01 02:00:00     109.8   0.0  1.5  \n",
       "2021-01-01 03:00:00     109.8   0.0  1.5  \n",
       "2021-01-01 04:00:00     109.8   0.0  1.5  "
      ]
     },
     "execution_count": 129,
     "metadata": {},
     "output_type": "execute_result"
    }
   ],
   "source": [
    "df_basetable1.head()"
   ]
  },
  {
   "cell_type": "markdown",
   "id": "c64e1b58",
   "metadata": {},
   "source": [
    "## 단계 1-1\n",
    "\n",
    "시간당 최대수요전력 합계(TotalHour)의 최대값과 최소값이 차이를 구하고, 이 값을 A라고 한다."
   ]
  },
  {
   "cell_type": "code",
   "execution_count": 130,
   "id": "0127985e",
   "metadata": {},
   "outputs": [
    {
     "data": {
      "text/plain": [
       "830"
      ]
     },
     "execution_count": 130,
     "metadata": {},
     "output_type": "execute_result"
    }
   ],
   "source": [
    "mx, mn = df_basetable1['TotalHour'].agg(['max', 'min'])\n",
    "A = mx - mn\n",
    "A"
   ]
  },
  {
   "cell_type": "markdown",
   "id": "71ca7995",
   "metadata": {},
   "source": [
    "## 단계 1-2 \n",
    "\n",
    "일별로 시간당 최대수요전력 합계(TotalHour)의 최대값을 찾아 최대값이 빈번하게 발생하는 시간을 찾고자 한다.\n",
    "\n",
    "일별로 최대수요전력 합계(TotalHour)의 최대값이 첫 번째로 빈번하게 발생하는 시간(Hour)을 B, \n",
    "\n",
    "두 번째로 빈번하게 발생하는 시간(Hour)을 C라고 한다. \n",
    "\n",
    "하루에 최대값에 해당하는 시간(Hour)이 여러 번 나올 수 있음을 고려하라."
   ]
  },
  {
   "cell_type": "code",
   "execution_count": 131,
   "id": "06b532f2",
   "metadata": {},
   "outputs": [
    {
     "data": {
      "text/plain": [
       "(8, 11)"
      ]
     },
     "execution_count": 131,
     "metadata": {},
     "output_type": "execute_result"
    }
   ],
   "source": [
    "# groupby ~ transform을 통해 각각의 행이 일별 최대 TotalHour에 해당하는지 판별하는 boolean index를 만들어,\n",
    "# 일별 최대 TotalHour에 해당하는 행들을 선택하고, 'Hour'의 빈도를 취해 값을 도출합니다.\n",
    "B, C = df_basetable1.loc[\n",
    "    df_basetable1.groupby(df_basetable1.index.date)['TotalHour'].transform(lambda x: x == x.max()),\n",
    "    'Hour'\n",
    "].value_counts().iloc[:2].index\n",
    "B, C"
   ]
  },
  {
   "cell_type": "markdown",
   "id": "ba549b1d",
   "metadata": {},
   "source": [
    "## 단계 1-3\n",
    "\n",
    "일별 기준(DateHour 변수 사용)으로 시간당 최대수요전력 합계(TotalHour) 의 범위(최대값-최소값)가 가장 큰 값을 찾고 \n",
    "\n",
    "이 값을 D라고 한다."
   ]
  },
  {
   "cell_type": "code",
   "execution_count": 132,
   "id": "d20754b6",
   "metadata": {},
   "outputs": [
    {
     "data": {
      "text/plain": [
       "706"
      ]
     },
     "execution_count": 132,
     "metadata": {},
     "output_type": "execute_result"
    }
   ],
   "source": [
    "D = df_basetable1.groupby(df_basetable1.index.date)['TotalHour'].agg(lambda x: x.max() - x.min()).max()\n",
    "D"
   ]
  },
  {
   "cell_type": "markdown",
   "id": "2afb00d6",
   "metadata": {},
   "source": [
    "## 단계 1-4\n",
    "\n",
    "공휴일과 주말을 제외한 평일 데이터만 추출을 한 후, \n",
    "\n",
    "일별 기준으로 시간당 최대수요전력 합계(TotalHour)의 범위(최대값-최소값)가 가장 큰 일자의 요일명(DayName)을 E라고 한다.\n",
    "\n"
   ]
  },
  {
   "cell_type": "code",
   "execution_count": 133,
   "id": "e7755a11",
   "metadata": {},
   "outputs": [
    {
     "data": {
      "text/plain": [
       "0"
      ]
     },
     "execution_count": 133,
     "metadata": {},
     "output_type": "execute_result"
    }
   ],
   "source": [
    "# loc을 통해 공휴일과 주말을 제외한 평일 데이터만 추출하고\n",
    "# pipe를 통해 필터링한 데이터프레임을 임시 데이터프레임을 만들지 않고 \n",
    "# 그대로 받아 추가적인 연산을 진행합니다.\n",
    "E = df_basetable1.loc[(df_basetable1[['Weekend_yn', 'Holiday_yn']] == 0).all(axis=1)]\\\n",
    "            .pipe(lambda x: x.groupby(x.index.date)['TotalHour'].agg(lambda x: x.max() - x.min()))\\\n",
    "            .idxmax().weekday()\n",
    "E"
   ]
  },
  {
   "cell_type": "code",
   "execution_count": 134,
   "id": "49ededd7",
   "metadata": {},
   "outputs": [
    {
     "data": {
      "text/plain": [
       "DateHour\n",
       "2021-01-01 00:00:00    False\n",
       "2021-01-01 01:00:00    False\n",
       "2021-01-01 02:00:00    False\n",
       "2021-01-01 03:00:00    False\n",
       "2021-01-01 04:00:00    False\n",
       "                       ...  \n",
       "2021-09-14 19:00:00     True\n",
       "2021-09-14 20:00:00     True\n",
       "2021-09-14 21:00:00     True\n",
       "2021-09-14 22:00:00     True\n",
       "2021-09-14 23:00:00     True\n",
       "Length: 6168, dtype: bool"
      ]
     },
     "execution_count": 134,
     "metadata": {},
     "output_type": "execute_result"
    }
   ],
   "source": [
    "# 참고 코드: 위에서 all 말고 다른 방법을 봅니다.\n",
    "(df_basetable1['Weekend_yn'] == 0) & (df_basetable1['Holiday_yn'] == 0)"
   ]
  },
  {
   "cell_type": "code",
   "execution_count": 138,
   "id": "db749962",
   "metadata": {},
   "outputs": [
    {
     "data": {
      "text/plain": [
       "0"
      ]
     },
     "execution_count": 138,
     "metadata": {},
     "output_type": "execute_result"
    }
   ],
   "source": [
    "# 참고 코드: pipe 없이 해봅니다.\n",
    "df_tmp = df_basetable1.loc[(df_basetable1[['Weekend_yn', 'Holiday_yn']] == 0).all(axis=1)]\n",
    "df_tmp.groupby(df_tmp.index.date)['TotalHour'].agg(lambda x: x.max() - x.min()).idxmax().weekday()"
   ]
  },
  {
   "cell_type": "code",
   "execution_count": 107,
   "id": "2f6ec7c1",
   "metadata": {},
   "outputs": [
    {
     "data": {
      "text/plain": [
       "(830, 8, 11, 706, 0, 1555)"
      ]
     },
     "execution_count": 107,
     "metadata": {},
     "output_type": "execute_result"
    }
   ],
   "source": [
    "A, B, C, D, E, A + B + C + D + E"
   ]
  },
  {
   "cell_type": "markdown",
   "id": "4dab0b7c",
   "metadata": {},
   "source": [
    "A + B + C + D + E를 적으시오.\n",
    "\n",
    "**1555**"
   ]
  },
  {
   "cell_type": "markdown",
   "id": "13fe3635",
   "metadata": {},
   "source": [
    "# 문제 2\n",
    "\n",
    "최대수요전력 평균(Avg) 값이 오전/오후에 따라 차이가 있는지 검정하시오."
   ]
  },
  {
   "cell_type": "code",
   "execution_count": null,
   "id": "8bf5aa28",
   "metadata": {},
   "outputs": [],
   "source": []
  },
  {
   "cell_type": "markdown",
   "id": "65eef818",
   "metadata": {},
   "source": [
    "##  단계 2-1\n",
    "\n",
    "basetable1 에서 공휴일과 주말을 제외하고 prob2 데이터프레임을 만든다. \n",
    "\n",
    "- prob2에서 시간(Hour)이 8과 11사이 (8, 11 포함) 또는 13과 16 (13, 16 포함) 사이의 행들만 남긴다.\n",
    "\n",
    "- prob2에서 Avg가 130이상인 행들만을 남긴다.\n",
    "\n",
    "Hint] 최종 1233개 행만 남는다.\n"
   ]
  },
  {
   "cell_type": "code",
   "execution_count": 143,
   "id": "61bc3749",
   "metadata": {},
   "outputs": [
    {
     "data": {
      "text/html": [
       "<div>\n",
       "<style scoped>\n",
       "    .dataframe tbody tr th:only-of-type {\n",
       "        vertical-align: middle;\n",
       "    }\n",
       "\n",
       "    .dataframe tbody tr th {\n",
       "        vertical-align: top;\n",
       "    }\n",
       "\n",
       "    .dataframe thead th {\n",
       "        text-align: right;\n",
       "    }\n",
       "</style>\n",
       "<table border=\"1\" class=\"dataframe\">\n",
       "  <thead>\n",
       "    <tr style=\"text-align: right;\">\n",
       "      <th></th>\n",
       "      <th>15분</th>\n",
       "      <th>30분</th>\n",
       "      <th>45분</th>\n",
       "      <th>60분</th>\n",
       "      <th>DayName</th>\n",
       "      <th>Hour</th>\n",
       "      <th>AM</th>\n",
       "      <th>Weekend_yn</th>\n",
       "      <th>Holiday_yn</th>\n",
       "      <th>Avg</th>\n",
       "      <th>TotalHour</th>\n",
       "      <th>생산량</th>\n",
       "      <th>기온</th>\n",
       "      <th>풍속</th>\n",
       "      <th>습도</th>\n",
       "      <th>강수량</th>\n",
       "      <th>전기요금(계절)</th>\n",
       "      <th>공장인원</th>\n",
       "      <th>인건비</th>\n",
       "    </tr>\n",
       "    <tr>\n",
       "      <th>DateHour</th>\n",
       "      <th></th>\n",
       "      <th></th>\n",
       "      <th></th>\n",
       "      <th></th>\n",
       "      <th></th>\n",
       "      <th></th>\n",
       "      <th></th>\n",
       "      <th></th>\n",
       "      <th></th>\n",
       "      <th></th>\n",
       "      <th></th>\n",
       "      <th></th>\n",
       "      <th></th>\n",
       "      <th></th>\n",
       "      <th></th>\n",
       "      <th></th>\n",
       "      <th></th>\n",
       "      <th></th>\n",
       "      <th></th>\n",
       "    </tr>\n",
       "  </thead>\n",
       "  <tbody>\n",
       "    <tr>\n",
       "      <td>2021-01-04 00:00:00</td>\n",
       "      <td>72</td>\n",
       "      <td>67</td>\n",
       "      <td>66</td>\n",
       "      <td>66</td>\n",
       "      <td>0</td>\n",
       "      <td>0</td>\n",
       "      <td>0</td>\n",
       "      <td>0</td>\n",
       "      <td>0</td>\n",
       "      <td>67.75</td>\n",
       "      <td>271</td>\n",
       "      <td>0</td>\n",
       "      <td>-0.1</td>\n",
       "      <td>1.7</td>\n",
       "      <td>39</td>\n",
       "      <td>0.0</td>\n",
       "      <td>109.8</td>\n",
       "      <td>0.0</td>\n",
       "      <td>1.5</td>\n",
       "    </tr>\n",
       "    <tr>\n",
       "      <td>2021-01-04 01:00:00</td>\n",
       "      <td>96</td>\n",
       "      <td>108</td>\n",
       "      <td>119</td>\n",
       "      <td>109</td>\n",
       "      <td>0</td>\n",
       "      <td>1</td>\n",
       "      <td>0</td>\n",
       "      <td>0</td>\n",
       "      <td>0</td>\n",
       "      <td>108.00</td>\n",
       "      <td>432</td>\n",
       "      <td>0</td>\n",
       "      <td>-0.9</td>\n",
       "      <td>1.3</td>\n",
       "      <td>44</td>\n",
       "      <td>0.0</td>\n",
       "      <td>109.8</td>\n",
       "      <td>0.0</td>\n",
       "      <td>1.5</td>\n",
       "    </tr>\n",
       "    <tr>\n",
       "      <td>2021-01-04 02:00:00</td>\n",
       "      <td>106</td>\n",
       "      <td>106</td>\n",
       "      <td>111</td>\n",
       "      <td>116</td>\n",
       "      <td>0</td>\n",
       "      <td>2</td>\n",
       "      <td>0</td>\n",
       "      <td>0</td>\n",
       "      <td>0</td>\n",
       "      <td>109.75</td>\n",
       "      <td>439</td>\n",
       "      <td>0</td>\n",
       "      <td>-0.4</td>\n",
       "      <td>1.4</td>\n",
       "      <td>42</td>\n",
       "      <td>0.0</td>\n",
       "      <td>109.8</td>\n",
       "      <td>0.0</td>\n",
       "      <td>1.5</td>\n",
       "    </tr>\n",
       "    <tr>\n",
       "      <td>2021-01-04 03:00:00</td>\n",
       "      <td>104</td>\n",
       "      <td>105</td>\n",
       "      <td>104</td>\n",
       "      <td>113</td>\n",
       "      <td>0</td>\n",
       "      <td>3</td>\n",
       "      <td>0</td>\n",
       "      <td>0</td>\n",
       "      <td>0</td>\n",
       "      <td>106.50</td>\n",
       "      <td>426</td>\n",
       "      <td>0</td>\n",
       "      <td>-2.1</td>\n",
       "      <td>1.5</td>\n",
       "      <td>50</td>\n",
       "      <td>0.0</td>\n",
       "      <td>109.8</td>\n",
       "      <td>0.0</td>\n",
       "      <td>1.5</td>\n",
       "    </tr>\n",
       "    <tr>\n",
       "      <td>2021-01-04 04:00:00</td>\n",
       "      <td>115</td>\n",
       "      <td>109</td>\n",
       "      <td>108</td>\n",
       "      <td>103</td>\n",
       "      <td>0</td>\n",
       "      <td>4</td>\n",
       "      <td>0</td>\n",
       "      <td>0</td>\n",
       "      <td>0</td>\n",
       "      <td>108.75</td>\n",
       "      <td>435</td>\n",
       "      <td>0</td>\n",
       "      <td>-1.9</td>\n",
       "      <td>1.8</td>\n",
       "      <td>50</td>\n",
       "      <td>0.0</td>\n",
       "      <td>109.8</td>\n",
       "      <td>0.0</td>\n",
       "      <td>1.5</td>\n",
       "    </tr>\n",
       "  </tbody>\n",
       "</table>\n",
       "</div>"
      ],
      "text/plain": [
       "                     15분  30분  45분  60분  DayName  Hour  AM  Weekend_yn  \\\n",
       "DateHour                                                                 \n",
       "2021-01-04 00:00:00   72   67   66   66        0     0   0           0   \n",
       "2021-01-04 01:00:00   96  108  119  109        0     1   0           0   \n",
       "2021-01-04 02:00:00  106  106  111  116        0     2   0           0   \n",
       "2021-01-04 03:00:00  104  105  104  113        0     3   0           0   \n",
       "2021-01-04 04:00:00  115  109  108  103        0     4   0           0   \n",
       "\n",
       "                     Holiday_yn     Avg  TotalHour  생산량   기온   풍속  습도  강수량  \\\n",
       "DateHour                                                                     \n",
       "2021-01-04 00:00:00           0   67.75        271    0 -0.1  1.7  39  0.0   \n",
       "2021-01-04 01:00:00           0  108.00        432    0 -0.9  1.3  44  0.0   \n",
       "2021-01-04 02:00:00           0  109.75        439    0 -0.4  1.4  42  0.0   \n",
       "2021-01-04 03:00:00           0  106.50        426    0 -2.1  1.5  50  0.0   \n",
       "2021-01-04 04:00:00           0  108.75        435    0 -1.9  1.8  50  0.0   \n",
       "\n",
       "                     전기요금(계절)  공장인원  인건비  \n",
       "DateHour                                  \n",
       "2021-01-04 00:00:00     109.8   0.0  1.5  \n",
       "2021-01-04 01:00:00     109.8   0.0  1.5  \n",
       "2021-01-04 02:00:00     109.8   0.0  1.5  \n",
       "2021-01-04 03:00:00     109.8   0.0  1.5  \n",
       "2021-01-04 04:00:00     109.8   0.0  1.5  "
      ]
     },
     "execution_count": 143,
     "metadata": {},
     "output_type": "execute_result"
    }
   ],
   "source": [
    "df_prob2 = df_basetable1.loc[\n",
    "    (df_basetable1['Weekend_yn'] == 0) & (df_basetable1['Holiday_yn'] == 0)\n",
    "].copy()\n",
    "df_prob2.head()"
   ]
  },
  {
   "cell_type": "code",
   "execution_count": 142,
   "id": "7c3589f0",
   "metadata": {},
   "outputs": [
    {
     "data": {
      "text/plain": [
       "(1233, 19)"
      ]
     },
     "execution_count": 142,
     "metadata": {},
     "output_type": "execute_result"
    }
   ],
   "source": [
    "# 방법1: query\n",
    "df_prob2 = df_prob2.query('((Hour >= 8 and Hour <= 11) or (Hour >= 13 and Hour <= 16)) and Avg >= 130')\n",
    "df_prob2.shape"
   ]
  },
  {
   "cell_type": "code",
   "execution_count": 148,
   "id": "14910105",
   "metadata": {},
   "outputs": [
    {
     "data": {
      "text/plain": [
       "(1233, 19)"
      ]
     },
     "execution_count": 148,
     "metadata": {},
     "output_type": "execute_result"
    }
   ],
   "source": [
    "# 방법2: boolean index, between\n",
    "df_prob2 = df_prob2.loc[\n",
    "    (df_prob2['Hour'].between(8, 11, inclusive=True) | df_prob2['Hour'].between(13, 16, inclusive=True)) &\\\n",
    "    (df_prob2['Avg'] >= 130)\n",
    "]\n",
    "df_prob2.shape"
   ]
  },
  {
   "cell_type": "code",
   "execution_count": 153,
   "id": "3edf54a5",
   "metadata": {},
   "outputs": [
    {
     "data": {
      "text/plain": [
       "(1233, 19)"
      ]
     },
     "execution_count": 153,
     "metadata": {},
     "output_type": "execute_result"
    }
   ],
   "source": [
    "# 방법3: boolean index, pipe 버젼\n",
    "df_prob2 = df_prob2.loc[\n",
    "    df_prob2['Hour'].pipe(lambda x: ((x >= 8) & (x <= 11)) | ((x >= 13) & (x <= 16))) &\\\n",
    "    (df_prob2['Avg'] >= 130)\n",
    "]\n",
    "df_prob2.shape"
   ]
  },
  {
   "cell_type": "code",
   "execution_count": 178,
   "id": "739801eb",
   "metadata": {},
   "outputs": [
    {
     "data": {
      "text/plain": [
       "mean    167.335969\n",
       "std      12.806019\n",
       "Name: Avg, dtype: float64"
      ]
     },
     "execution_count": 178,
     "metadata": {},
     "output_type": "execute_result"
    }
   ],
   "source": [
    "df_prob2['Avg'].agg(['mean', 'std'])"
   ]
  },
  {
   "cell_type": "markdown",
   "id": "3f2affb9",
   "metadata": {},
   "source": [
    "## 단계 2-2\n",
    "\n",
    "오전(AM = 0) 인 행들을 대상으로 Avg에 대하여 Shapiro-Wilk 검정을 사용하여 정규성 검정한다. \n",
    "\n",
    "검정 결과에서 p-value를 A라고 한다.\n",
    "\n",
    "---\n",
    "**함수가이드**\n",
    "\n",
    "scipy.stats 제공 기능 활용\n",
    "\n",
    "문제 지시사항 외 Default 값 사용\n",
    "\n",
    "---"
   ]
  },
  {
   "cell_type": "code",
   "execution_count": 160,
   "id": "c232de66",
   "metadata": {},
   "outputs": [
    {
     "data": {
      "text/plain": [
       "(ShapiroResult(statistic=0.9945228695869446, pvalue=0.026428762823343277),\n",
       " 0.026428762823343277)"
      ]
     },
     "execution_count": 160,
     "metadata": {},
     "output_type": "execute_result"
    }
   ],
   "source": [
    "from scipy.stats import shapiro\n",
    "result_2_2 = shapiro(df_prob2.loc[df_prob2['AM'] == 0, 'Avg'])\n",
    "A = result_2_2.pvalue\n",
    "result_2_2, A"
   ]
  },
  {
   "cell_type": "markdown",
   "id": "db911fc0",
   "metadata": {},
   "source": [
    "## 단계 2-3\n",
    "\n",
    "오후(AM = 1) 인 행들을 대상으로 Avg에 대하여 Shapiro-Wilk 검정을 사용하여 정규성 검정한다. \n",
    "\n",
    "검정 결과에서 p-value를 B라고 한다."
   ]
  },
  {
   "cell_type": "code",
   "execution_count": 161,
   "id": "bfb189f7",
   "metadata": {},
   "outputs": [
    {
     "data": {
      "text/plain": [
       "(ShapiroResult(statistic=0.9950335025787354, pvalue=0.043661389499902725),\n",
       " 0.043661389499902725)"
      ]
     },
     "execution_count": 161,
     "metadata": {},
     "output_type": "execute_result"
    }
   ],
   "source": [
    "from scipy.stats import shapiro\n",
    "result_2_3 = shapiro(df_prob2.loc[df_prob2['AM'] == 1, 'Avg'])\n",
    "B = result_2_3.pvalue\n",
    "result_2_3, B"
   ]
  },
  {
   "cell_type": "markdown",
   "id": "307f96f6",
   "metadata": {},
   "source": [
    "## 단계 2-4\n",
    "\n",
    "오전/오후에 따라 Avg의 모평균에 차이가 있는지 검정을 한다.\n",
    "\n",
    "검정 방법은 T-검정을 사용하며, Bartlett 검정을 하고 결과를 T-검정 시 반영한다(유의 수준 5%). \n",
    "\n",
    "검정 결과에서 검정통계량의 절대값을 C라고 한다.\n",
    "\n",
    "---\n",
    "**함수가이드**\n",
    "\n",
    "scipy.stats 제공 기능 활용\n",
    "\n",
    "문제 지시사항 외 Default 값 사용\n",
    "\n",
    "---\n"
   ]
  },
  {
   "cell_type": "code",
   "execution_count": 165,
   "id": "a419ed7d",
   "metadata": {},
   "outputs": [
    {
     "data": {
      "text/plain": [
       "True"
      ]
     },
     "execution_count": 165,
     "metadata": {},
     "output_type": "execute_result"
    }
   ],
   "source": [
    "from scipy.stats import bartlett\n",
    "equal_var = bartlett(\n",
    "    df_prob2.loc[df_prob2['AM'] == 0, 'Avg'],\n",
    "    df_prob2.loc[df_prob2['AM'] == 1, 'Avg']\n",
    ").pvalue >= 0.05\n",
    "equal_var"
   ]
  },
  {
   "cell_type": "code",
   "execution_count": 170,
   "id": "4cd7798f",
   "metadata": {},
   "outputs": [
    {
     "data": {
      "text/plain": [
       "(Ttest_indResult(statistic=8.27772409322812, pvalue=3.2348808563995005e-16),\n",
       " 8.27772409322812)"
      ]
     },
     "execution_count": 170,
     "metadata": {},
     "output_type": "execute_result"
    }
   ],
   "source": [
    "from scipy.stats import ttest_ind\n",
    "result_2_4 = ttest_ind(\n",
    "    df_prob2.loc[df_prob2['AM'] == 0, 'Avg'],\n",
    "    df_prob2.loc[df_prob2['AM'] == 1, 'Avg'],\n",
    "    equal_var = equal_var\n",
    ")\n",
    "C = abs(result_2_4.statistic)\n",
    "result_2_4, C"
   ]
  },
  {
   "cell_type": "code",
   "execution_count": 181,
   "id": "82a6f0c7",
   "metadata": {},
   "outputs": [
    {
     "data": {
      "text/plain": [
       "4.440892098500626e-16"
      ]
     },
     "execution_count": 181,
     "metadata": {},
     "output_type": "execute_result"
    }
   ],
   "source": [
    "from scipy.stats import t\n",
    "(1 - t.cdf(8.27772409322812, (df_prob2['AM'] == 0).sum() + (df_prob2['AM'] == 1).sum() - 2)) * 2\n",
    "#T = 8.27772409322812"
   ]
  },
  {
   "cell_type": "markdown",
   "id": "9cea2f72",
   "metadata": {},
   "source": [
    "## 단계 2-5\n",
    "\n",
    "단계 2-2와 2-3의 검정 결과를 바탕으로, 단계 2-4의 T-검정의 가정을 만족한다면 D 값을 1 아니면 0으로 한다. (유의 수준을 5%)"
   ]
  },
  {
   "cell_type": "code",
   "execution_count": 171,
   "id": "a5190550",
   "metadata": {},
   "outputs": [
    {
     "data": {
      "text/plain": [
       "0"
      ]
     },
     "execution_count": 171,
     "metadata": {},
     "output_type": "execute_result"
    }
   ],
   "source": [
    "D = 0\n",
    "D"
   ]
  },
  {
   "cell_type": "markdown",
   "id": "5da4f1ee",
   "metadata": {},
   "source": [
    "## 단계 2-6\n",
    "\n",
    "오전/오후에 따라 Avg를 구분하여 Mann-Whitney U 검정을 하라. 검정 결과 pvalue을 E값으로 한다. 대립 가설은 '오전의 Avg와 오후의 Avg의 중앙값은 같지 않다' 입니다.\n",
    "\n",
    "---\n",
    "**함수가이드**\n",
    "\n",
    "scipy.stats.mannwhitneyu, alternative를 문제 요건에 반드시 맞추어 설정합니다.\n",
    "\n",
    "문제 지시사항 외 Default 값 사용\n",
    "\n",
    "---\n"
   ]
  },
  {
   "cell_type": "code",
   "execution_count": 175,
   "id": "9ec1b4d2",
   "metadata": {},
   "outputs": [
    {
     "data": {
      "text/plain": [
       "(MannwhitneyuResult(statistic=239777.5, pvalue=1.7651446950415425e-15),\n",
       " 1.7651446950415425e-15)"
      ]
     },
     "execution_count": 175,
     "metadata": {},
     "output_type": "execute_result"
    }
   ],
   "source": [
    "from scipy.stats import mannwhitneyu\n",
    "result_2_6 = mannwhitneyu(\n",
    "    df_prob2.loc[df_prob2['AM'] == 0, 'Avg'],\n",
    "    df_prob2.loc[df_prob2['AM'] == 1, 'Avg'],\n",
    "    alternative='two-sided'\n",
    ")\n",
    "E = result_2_6.pvalue\n",
    "result_2_6, E"
   ]
  },
  {
   "cell_type": "code",
   "execution_count": 176,
   "id": "9e7529e6",
   "metadata": {},
   "outputs": [
    {
     "data": {
      "text/plain": [
       "(0.026428762823343277,\n",
       " 0.043661389499902725,\n",
       " 8.27772409322812,\n",
       " 0,\n",
       " 1.7651446950415425e-15,\n",
       " 8.347814245551367)"
      ]
     },
     "execution_count": 176,
     "metadata": {},
     "output_type": "execute_result"
    }
   ],
   "source": [
    "A, B, C, D, E, A + B + C + D + E"
   ]
  },
  {
   "cell_type": "markdown",
   "id": "74a74dc6",
   "metadata": {},
   "source": [
    "A + B + C + D + E를 소수점 넷째 자리에서 반올림하여 셋째 자리까지 적으시오\n",
    "\n",
    "**8.348**"
   ]
  },
  {
   "cell_type": "markdown",
   "id": "85bd78b8",
   "metadata": {},
   "source": [
    "## 단계 2-7, Optional\n",
    "\n",
    "Avg에 대하여 AM, DayName 두 범주에 대하여 이원산 분산분석(Two-way ANOVA)을 수행하고 상호작용항의 검정통계량을 구하라.\n",
    "\n",
    "---\n",
    "**함수가이드**\n",
    "\n",
    "statsmodels.formula.api.ols\n",
    "\n",
    "statsmodels.api.stats\n",
    "\n",
    "문제 지시사항 외 Default 값 사용\n",
    "\n",
    "---"
   ]
  },
  {
   "cell_type": "code",
   "execution_count": null,
   "id": "137b791b",
   "metadata": {},
   "outputs": [],
   "source": []
  },
  {
   "cell_type": "markdown",
   "id": "bb5c441f",
   "metadata": {},
   "source": [
    "## 쉬는 시간: ~ 12: 00\n",
    "\n",
    "## 문제 3\n",
    "\n",
    "\n",
    "DateHour를 기준으로 다음날 같은 시각의 최대전력사용량을 예측하려고 한다.\n"
   ]
  },
  {
   "cell_type": "code",
   "execution_count": null,
   "id": "6a464773",
   "metadata": {},
   "outputs": [],
   "source": []
  },
  {
   "cell_type": "markdown",
   "id": "82dcd88a",
   "metadata": {},
   "source": [
    "## 단계 3-1 \n",
    "\n",
    "basetable1에 아래 그림과 같이, DateHour를 기준으로 다음날 같은 시각의 TotalHour를 이용하여 파생 변수 target을 생성한다. \n",
    "\n",
    "target에 결측치가 있는 행은 모두 제거하여 prob3 데이터셋을 만든다.\n",
    "\n",
    "![image.png](data:image/png;base64,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)"
   ]
  },
  {
   "cell_type": "code",
   "execution_count": null,
   "id": "c6ebd01f",
   "metadata": {},
   "outputs": [],
   "source": []
  },
  {
   "cell_type": "markdown",
   "id": "94fb03ee",
   "metadata": {},
   "source": [
    "## 단계 3-2 \n",
    "\n",
    "prob3을 학습용과 테스트용 데이터셋을 2021년 8월 14일 전과 이후로 분리\n",
    "\n",
    ". prob3_train: DateHour 변수 기준으로 2021년 8월 14일 전(8월 14일 미포함) 데이터 (행의 수: 5400개)\n",
    "\n",
    ". prob3_test: DateHour 변수 기준으로 2021년 8월 14일 이후(8월 14일 포함) 데이터 (행의 수: 744 개)\n"
   ]
  },
  {
   "cell_type": "code",
   "execution_count": null,
   "id": "eaba7c5a",
   "metadata": {},
   "outputs": [],
   "source": []
  },
  {
   "cell_type": "markdown",
   "id": "0655f050",
   "metadata": {},
   "source": [
    "## 단계 3-3\n",
    "\n",
    "결정트리 회귀모델(Decision Tree Regression Model)을 사용하여 target을 예측하는 모델을 prob3_train으로 학습시킨다. \n",
    "\n",
    "요건은 다음과 같다.\n",
    "\n",
    "\n",
    "성능 측정 지표: $MAE(Y, \\hat{Y})=\\frac{1}{n}\\sum^n_{i=1}|y_i - \\hat{y_i}|$\n",
    "\n",
    "입력 변수: 15분, 30분, 45분, 60분, DayName, Hour, AM, Weekend_yn, Holiday_yn, Avg, TotalHour, \n",
    "\n",
    "           생산량, 기온, 풍속, 습도, 강수량, 전기요금(계절), 공장인원, 인건비\n",
    "※ 입력 변수의 순서는 반드시 나열한 순서로 해야 함.\n",
    "\n",
    "대상 변수: target\n",
    "\n",
    "결정 트리 구성 요건:\n",
    "\n",
    "   \n",
    "   |하이퍼 파라미터|값|\n",
    "   |-|-|\n",
    "   |트리의 최대 깊이|10|\n",
    "   |리프 노드(Leaf Node)의 최소 샘플 수|4|\n",
    "   |랜덤 시드|123|\n",
    " \n",
    "---\n",
    "**함수가이드**\n",
    "\n",
    "sklearn.tree 제공 기능 활용\n",
    "\n",
    "문제 지시 사항 외 Default 값 사용\n",
    "\n",
    "---\n",
    " \n",
    "모델의 학습 결과 가장 중요도가 높은 변수의 입력 순서를 A (순서는 1부터 시작) 라고 한다. \n",
    "\n",
    "결정 트리의 prob3_test에 대한 성능을 B라고 한다. \n"
   ]
  },
  {
   "cell_type": "code",
   "execution_count": null,
   "id": "7a1dea0d",
   "metadata": {},
   "outputs": [],
   "source": []
  },
  {
   "cell_type": "markdown",
   "id": "d8a5d710",
   "metadata": {},
   "source": [
    "## 단계 3-4\n",
    "\n",
    "결정트리 대신에 경사 부스팅(Gradient Boosting) 회귀모델을 사용한다. \n",
    "\n",
    "경사 부스팅(Gradient Boosting) 회귀모델구성 요건:\n",
    "\n",
    "   \n",
    "   |하이퍼 파라미터|값|\n",
    "   |-|-|\n",
    "   |손실함수|huber|\n",
    "   |트리의 수|75|\n",
    "   |트리의 최대 깊이|7|\n",
    "   |리프 노드(Leaf Node)의 최소 샘플 수|4|\n",
    "   |랜덤 시드|123|\n",
    "\n",
    "prob3_train으로 학습하고 prob3_test에 대한 성능을 C라고 한다.\n",
    "\n",
    "----\n",
    "**함수가이드**\n",
    "\n",
    "sklearn.ensemble 제공 기능 활용\n",
    "\n",
    "문제 지시 사항 외 Default 값 사용\n",
    "\n",
    "---"
   ]
  },
  {
   "cell_type": "code",
   "execution_count": null,
   "id": "4b57ef47",
   "metadata": {},
   "outputs": [],
   "source": []
  },
  {
   "cell_type": "markdown",
   "id": "e202e03b",
   "metadata": {},
   "source": [
    "A + B + C를 소수점 넷째 자리에서 반올림하여 셋째 자리까지 적으시오\n",
    "\n",
    "Ex) 3.142"
   ]
  },
  {
   "cell_type": "markdown",
   "id": "e765a1bb",
   "metadata": {},
   "source": [
    "## 문제 4\n",
    "\n",
    "DateHour를 기준으로 동일한 시각의 n일 이전의 TotalHour를 파생 변수 lag_n이라고 한다. \n",
    "\n",
    "예를 들어 DateHour가 2021-01-07 00:00:00이라면, lag_1은 2021-01-06 00:00:00의 TotalHour값인 96이 된다. \n",
    "\n",
    "![image.png](data:image/png;base64,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)"
   ]
  },
  {
   "cell_type": "code",
   "execution_count": null,
   "id": "564bc5c1",
   "metadata": {},
   "outputs": [],
   "source": []
  },
  {
   "cell_type": "markdown",
   "id": "5f419404",
   "metadata": {},
   "source": [
    "## 단계 4-1\n",
    "\n",
    "prob3에 lag_1 ~ lag_6까지의 6개의 파생 변수를 추가하여 prob4를 만든다. \n",
    "\n",
    "prob4에 lag_1 ~ lag_6까지 하나라도 결측치가 있다면 삭제한다."
   ]
  },
  {
   "cell_type": "code",
   "execution_count": null,
   "id": "4fc24389",
   "metadata": {},
   "outputs": [],
   "source": []
  },
  {
   "cell_type": "markdown",
   "id": "4b61eed3",
   "metadata": {},
   "source": [
    "## 단계 4-2\n",
    "\n",
    "학습용과 테스트용 데이터셋을 2021년 8월 14일 전과 이후로 분리\n",
    "\n",
    ". prob4_train: DateHour 변수 기준으로 2021년 8월 14일 전(8월 14일 미포함) 데이터 (행의 수: 5256개)\n",
    "\n",
    ". prob4_test: DateHour 변수 기준으로 2021년 8월 14일 이후(8월 14일 포함) 데이터 (행의 수: 744 개)"
   ]
  },
  {
   "cell_type": "code",
   "execution_count": null,
   "id": "59c4f0ec",
   "metadata": {},
   "outputs": [],
   "source": []
  },
  {
   "cell_type": "markdown",
   "id": "4b00a6fe",
   "metadata": {},
   "source": [
    "## 단계 4-3\n",
    "\n",
    "prob4_train에서 TotalHour와 lag_1~6 를 표준화하고, \n",
    "\n",
    "prob4_train의 표준화 설정으로 prob4_test의 TotalHour와 lag_1~6를 표준화한다.\n",
    "\n",
    "\n",
    "---\n",
    "**함수가이드**\n",
    "\n",
    "sklearn.preprocessing  제공 기능 활용\n",
    "\n",
    "문제 지시 사항 외 Default 값 사용\n",
    "\n",
    "---"
   ]
  },
  {
   "cell_type": "code",
   "execution_count": null,
   "id": "979212f7",
   "metadata": {},
   "outputs": [],
   "source": []
  },
  {
   "cell_type": "markdown",
   "id": "fe364f71",
   "metadata": {},
   "source": [
    "## 단계 4-4\n",
    "\n",
    "SVR 모델을 아래 요건에 3가지 커널(Kernel)로 prob4_train을 학습하고 \n",
    "\n",
    "prob4_test로 성능을 측정한다. \n",
    "\n",
    "그 중 가장 좋은 성능을 보인 커널의 번호를 A(No.), 그 때의 성능을 B라고 한다.\n",
    "\n",
    "성능 측정 지표: $MAE(Y, \\hat{Y})=\\frac{1}{n}\\sum^n_{i=1}|y_i - \\hat{y_i}|$\n",
    "\n",
    "입력 변수: TotalHour, lag_1 ~ 6\n",
    "\n",
    "대상 변수: target\n",
    "\n",
    "커널함수:\n",
    "\n",
    "1: $k(x_i,x_j)=\\langle x_i,x_j \\rangle$\n",
    "\n",
    "2: $k(x_i,x_j)=(\\gamma \\langle x_i,x_j \\rangle +1)^2,\\gamma=0.1$\n",
    "\n",
    "3: $k(x_i,x_j)=exp⁡(||-\\gamma ||x_i-x_j||^2 ),\\gamma=0.1$\n",
    "\n",
    " $\\langle x,x' \\rangle:x,x'$ 의 내적,$||x_i-x_j||^2$:L2-norm\n",
    "\n",
    "----\n",
    "**함수가이드**\n",
    "\n",
    "sklearn.svm.SVR, C=10\n",
    "\n",
    "문제 지시 사항 외 Default 값 사용\n",
    "\n",
    "---\n"
   ]
  },
  {
   "cell_type": "code",
   "execution_count": null,
   "id": "f637d3b4",
   "metadata": {},
   "outputs": [],
   "source": []
  },
  {
   "cell_type": "markdown",
   "id": "a7066e4d",
   "metadata": {},
   "source": [
    "A + B 를 소수점 셋째 자리에서 반올림하여 둘째 자리까지 적으시오\n",
    "\n",
    "Ex) 3.14"
   ]
  },
  {
   "cell_type": "markdown",
   "id": "df50837d",
   "metadata": {},
   "source": [
    "## 단계 4-5, Optional\n",
    "\n",
    "퍼셉트론 회귀모델을 다음과 같이 3가지 설정으로 prob4_train으로 학습하고, \n",
    "\n",
    "prob4_test로 성능을 측정한다. \n",
    "\n",
    "가장 좋은 성능을 보인 경우의 번호(No.) C, 그 때의 성능을 D라고 한다.\n",
    "\n",
    "\n",
    "성능 측정 지표: $MAE(Y, \\hat{Y})=\\frac{1}{n}\\sum^n_{i=1}|y_i - \\hat{y_i}|$ \n",
    "\n",
    "입력 변수: TotalHour, lag_1 ~ 6\n",
    "\n",
    "대상 변수: target\n",
    "\n",
    "신경망 설정:\n",
    "\n",
    "|No.|은닉층의 수|은닉층의 활성화 함수|\n",
    "|---|---------|-------------|\n",
    "|1|[8]|relu|\n",
    "|2|[8, 4]|relu|\n",
    "|3|[8, 4]|sigmoid|\n",
    "\n",
    "\n",
    "---\n",
    "**함수가이드**\n",
    "\n",
    "sklearn.neural_network.MLPRegressor, \n",
    "\n",
    "learning_rate_init=0.05, random_state=123, max_iter=500\n",
    "\n",
    "---"
   ]
  },
  {
   "cell_type": "code",
   "execution_count": null,
   "id": "c9e54a2b",
   "metadata": {},
   "outputs": [],
   "source": []
  },
  {
   "cell_type": "markdown",
   "id": "c83bcbd4",
   "metadata": {},
   "source": [
    "# 문제 5\n",
    "\n",
    "info에서 기온, 풍속, 습도 강수량 데이터에서 이상치를 탐색하고자 한다."
   ]
  },
  {
   "cell_type": "markdown",
   "id": "9d613628",
   "metadata": {},
   "source": [
    "## 단계 5-1\n",
    "\n",
    "info1에서 기온, 풍속, 습도, 강수량 만을 떼어 weather1 데이터프레임을 만든다."
   ]
  },
  {
   "cell_type": "code",
   "execution_count": null,
   "id": "ae0aa7f2",
   "metadata": {},
   "outputs": [],
   "source": []
  },
  {
   "cell_type": "markdown",
   "id": "930f68be",
   "metadata": {},
   "source": [
    "## 단계 5-2\n",
    "\n",
    "weather1의 기온, 풍속, 습도, 강수량을 표준화 한다.\n"
   ]
  },
  {
   "cell_type": "code",
   "execution_count": null,
   "id": "ca3ee6e3",
   "metadata": {},
   "outputs": [],
   "source": []
  },
  {
   "cell_type": "markdown",
   "id": "acd80c60",
   "metadata": {},
   "source": [
    "## 단계 5-3\n",
    "\n",
    "DBSCAN 군집화를 입실론(epsilon) 반경을 0.5, 주변 영역에 포함하는 최소 샘플수를 7로하여 군집화를 수행 한다. \n",
    "\n",
    "weather1에 DBSCAN 결과에서 소속 군집이 없는 샘플들을 이상점으로 간주한다. \n",
    "\n",
    "이상점 여부를 파생변수 outlier_dbscan로 하여 weather1에 추가한다. (소속 군집이 있으면: False, 없으면 True)\n",
    "\n",
    "  입력변수: 기온, 풍속, 습도, 강수량\n",
    "\n",
    "---\n",
    "**함수가이드**\n",
    "\n",
    "sklearn.cluster.DBSCAN, algorithm=’brute’\n",
    "\n",
    "문제 지시 사항 외 Default 값 사용\n",
    "\n",
    "---\n"
   ]
  },
  {
   "cell_type": "code",
   "execution_count": null,
   "id": "d599ba93",
   "metadata": {},
   "outputs": [],
   "source": []
  },
  {
   "cell_type": "markdown",
   "id": "47f524cc",
   "metadata": {},
   "source": [
    "## 단계 5-4\n",
    "\n",
    "IsolationForest를 사용하여 weather1의 이상점을 탐색한다. \n",
    "\n",
    "학습시 bootstrapping은 하지 않고, 트리의 수는 30개를 사용한다. \n",
    "\n",
    "IsolationForest으로 탐지한 이상점 여부는 파생변수 outlier_isof로 하여 weather1에 추가한다. (이상치라면 True, 아니면 False)\n",
    "\n",
    "입력변수: 기온, 풍속, 습도, 강수량\n",
    "\n",
    "---\n",
    "**함수가이드**\n",
    "\n",
    "sklearn.ensemble.IsolationForest, random_state=123, contamination=’auto’, behaviour=’auto’\n",
    "\n",
    "문제 지시 사항 외 Default 값 사용\n",
    "\n",
    "---\n",
    "\n"
   ]
  },
  {
   "cell_type": "code",
   "execution_count": null,
   "id": "061bde3a",
   "metadata": {},
   "outputs": [],
   "source": []
  },
  {
   "cell_type": "markdown",
   "id": "96822119",
   "metadata": {},
   "source": [
    "## 단계 5-5\n",
    "\n",
    "LocalOutlierFactor를 사용하여 weather1의 이상점을 탐색한다. \n",
    "\n",
    "관찰할 주변의 샘플은 10개이다. 그리고, 샘플간의 거리는 유클리디언 거리를 사용한다. \n",
    "\n",
    "LocalOutlierFactor로 탐지한 이상 여부를 outlier_lof로 하여 weather1에 추가한다.\n",
    "\n",
    "입력변수: 기온, 풍속, 습도, 강수량\n",
    "\n",
    "---\n",
    "**함수가이드**\n",
    "\n",
    "sklearn.neighbors.LocalOutlierFactor, contamination=’auto’\n",
    "\n",
    "---"
   ]
  },
  {
   "cell_type": "code",
   "execution_count": null,
   "id": "cb07157a",
   "metadata": {},
   "outputs": [],
   "source": []
  },
  {
   "cell_type": "markdown",
   "id": "4efe6d30",
   "metadata": {},
   "source": [
    "## 단계 5-6 \n",
    "\n",
    "outlier_dbscan가 True인 행의 개수를 A, outlier_isof가 True인 행의 개수 B\n",
    ",  outlier_lof가 True인 행의 개수 C 이다.\n"
   ]
  },
  {
   "cell_type": "code",
   "execution_count": null,
   "id": "179cf319",
   "metadata": {},
   "outputs": [],
   "source": []
  },
  {
   "cell_type": "markdown",
   "id": "b193cd24",
   "metadata": {},
   "source": [
    "## 단계 5-7\n",
    "\n",
    "outlier_dbscan, outlier_isof 그리고 outlier_lof 모두가 True인 행의 개수는 D이다."
   ]
  },
  {
   "cell_type": "code",
   "execution_count": null,
   "id": "9ebba9ac",
   "metadata": {},
   "outputs": [],
   "source": []
  },
  {
   "cell_type": "markdown",
   "id": "4e99c4b5",
   "metadata": {},
   "source": [
    "A + B + C + D를 적는다."
   ]
  },
  {
   "cell_type": "markdown",
   "id": "bd95fe1f",
   "metadata": {},
   "source": [
    "# 문제 6\n",
    "\n",
    "(kaggle 형 문제) prob4 를 바탕으로 아래 데이터셋을 만든다.\n",
    "\n",
    ". prob6_train: DateHour 변수 기준으로 2021년 8월 14일 전(8월 14일 미포함) 데이터 (행의 수: 5256개)\n",
    "\n",
    ". prob6_test: DateHour 변수 기준으로 2021년 8월 14일 이후(8월 14일 포함) 데이터 (행의 수: 744 개)\n",
    "\n",
    "일 때, prob6_train으로 target을 예측하는 모델을 만들어, \n",
    "\n",
    "prob6_test의 target에 대한 MAE를 최소화하는 모델을 만든다. \n",
    "\n",
    "prob6_test의 예측 결과를 아래와 같은 형식으로 출력한다. 파일명은 answer6.csv 이다.\n",
    "\n",
    "|DateHour|TotalHour|\n",
    "|--------|---------|\n",
    "|2021-08-14 00:00:00|102.607580|\n",
    "|2021-08-14 01:00:00|94.078890|\n",
    "...."
   ]
  },
  {
   "cell_type": "code",
   "execution_count": null,
   "id": "cff30f43",
   "metadata": {},
   "outputs": [],
   "source": []
  }
 ],
 "metadata": {
  "kernelspec": {
   "display_name": "Python 3 (ipykernel)",
   "language": "python",
   "name": "python3"
  },
  "language_info": {
   "codemirror_mode": {
    "name": "ipython",
    "version": 3
   },
   "file_extension": ".py",
   "mimetype": "text/x-python",
   "name": "python",
   "nbconvert_exporter": "python",
   "pygments_lexer": "ipython3",
   "version": "3.7.4"
  }
 },
 "nbformat": 4,
 "nbformat_minor": 5
}
