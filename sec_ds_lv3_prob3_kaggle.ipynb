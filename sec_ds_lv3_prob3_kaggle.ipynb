{
 "cells": [
  {
   "cell_type": "markdown",
   "id": "0acca1d2",
   "metadata": {},
   "source": [
    "# 문제 6\n",
    "\n",
    "(kaggle 형 문제) prob4 를 바탕으로 아래 데이터셋을 만든다.\n",
    "\n",
    ". prob6_train: DateHour 변수 기준으로 2021년 8월 14일 전(8월 14일 미포함) 데이터 (행의 수: 5256개)\n",
    "\n",
    ". prob6_test: DateHour 변수 기준으로 2021년 8월 14일 이후(8월 14일 포함) 데이터 (행의 수: 744 개)\n",
    "\n",
    "일 때, prob6_train으로 target을 예측하는 모델을 만들어, \n",
    "\n",
    "prob6_test의 target에 대한 MAE를 최소화하는 모델을 만든다. \n",
    "\n",
    "prob6_test의 예측 결과를 아래와 같은 형식으로 출력한다. 파일명은 answer6.csv 이다.\n",
    "\n",
    "|DateHour|TotalHour|\n",
    "|--------|---------|\n",
    "|2021-08-14 00:00:00|102.607580|\n",
    "|2021-08-14 01:00:00|94.078890|\n",
    "...."
   ]
  },
  {
   "cell_type": "code",
   "execution_count": 1,
   "id": "e8bd3cda",
   "metadata": {},
   "outputs": [
    {
     "name": "stdout",
     "output_type": "stream",
     "text": [
      "3.7.4 (tags/v3.7.4:e09359112e, Jul  8 2019, 20:34:20) [MSC v.1916 64 bit (AMD64)]\n",
      "pandas 0.25.1\n",
      "numpy 1.18.5\n",
      "sklearn 0.21.3\n",
      "scipy 1.5.2\n",
      "mlxtend 0.15.0.0\n",
      "statsmodels 0.11.1\n"
     ]
    }
   ],
   "source": [
    "# 실행 환경 확인\n",
    "\n",
    "import pandas as pd\n",
    "import numpy as np\n",
    "import sklearn\n",
    "import scipy\n",
    "import statsmodels\n",
    "import mlxtend\n",
    "import sys\n",
    "\n",
    "print(sys.version)\n",
    "for i in [pd, np, sklearn, scipy, mlxtend, statsmodels]:\n",
    "    print(i.__name__, i.__version__)"
   ]
  },
  {
   "cell_type": "markdown",
   "id": "14454f1d",
   "metadata": {},
   "source": [
    "**문제1에서 5까지에서 필요한 내용들을 뽑아 옵니다.**"
   ]
  },
  {
   "cell_type": "code",
   "execution_count": 2,
   "id": "2508f0ef",
   "metadata": {},
   "outputs": [
    {
     "data": {
      "text/html": [
       "<div>\n",
       "<style scoped>\n",
       "    .dataframe tbody tr th:only-of-type {\n",
       "        vertical-align: middle;\n",
       "    }\n",
       "\n",
       "    .dataframe tbody tr th {\n",
       "        vertical-align: top;\n",
       "    }\n",
       "\n",
       "    .dataframe thead th {\n",
       "        text-align: right;\n",
       "    }\n",
       "</style>\n",
       "<table border=\"1\" class=\"dataframe\">\n",
       "  <thead>\n",
       "    <tr style=\"text-align: right;\">\n",
       "      <th></th>\n",
       "      <th>15분</th>\n",
       "      <th>30분</th>\n",
       "      <th>45분</th>\n",
       "      <th>60분</th>\n",
       "      <th>DayName</th>\n",
       "      <th>Hour</th>\n",
       "      <th>AM</th>\n",
       "      <th>Weekend_yn</th>\n",
       "      <th>Holiday_yn</th>\n",
       "      <th>Avg</th>\n",
       "      <th>TotalHour</th>\n",
       "    </tr>\n",
       "    <tr>\n",
       "      <th>DateHour</th>\n",
       "      <th></th>\n",
       "      <th></th>\n",
       "      <th></th>\n",
       "      <th></th>\n",
       "      <th></th>\n",
       "      <th></th>\n",
       "      <th></th>\n",
       "      <th></th>\n",
       "      <th></th>\n",
       "      <th></th>\n",
       "      <th></th>\n",
       "    </tr>\n",
       "  </thead>\n",
       "  <tbody>\n",
       "    <tr>\n",
       "      <td>2021-01-01 00:00:00</td>\n",
       "      <td>62</td>\n",
       "      <td>61</td>\n",
       "      <td>61</td>\n",
       "      <td>61</td>\n",
       "      <td>4</td>\n",
       "      <td>0</td>\n",
       "      <td>0</td>\n",
       "      <td>0</td>\n",
       "      <td>1</td>\n",
       "      <td>61.25</td>\n",
       "      <td>245</td>\n",
       "    </tr>\n",
       "    <tr>\n",
       "      <td>2021-01-01 01:00:00</td>\n",
       "      <td>96</td>\n",
       "      <td>93</td>\n",
       "      <td>116</td>\n",
       "      <td>113</td>\n",
       "      <td>4</td>\n",
       "      <td>1</td>\n",
       "      <td>0</td>\n",
       "      <td>0</td>\n",
       "      <td>1</td>\n",
       "      <td>104.50</td>\n",
       "      <td>418</td>\n",
       "    </tr>\n",
       "    <tr>\n",
       "      <td>2021-01-01 02:00:00</td>\n",
       "      <td>106</td>\n",
       "      <td>96</td>\n",
       "      <td>106</td>\n",
       "      <td>107</td>\n",
       "      <td>4</td>\n",
       "      <td>2</td>\n",
       "      <td>0</td>\n",
       "      <td>0</td>\n",
       "      <td>1</td>\n",
       "      <td>103.75</td>\n",
       "      <td>415</td>\n",
       "    </tr>\n",
       "    <tr>\n",
       "      <td>2021-01-01 03:00:00</td>\n",
       "      <td>92</td>\n",
       "      <td>110</td>\n",
       "      <td>110</td>\n",
       "      <td>109</td>\n",
       "      <td>4</td>\n",
       "      <td>3</td>\n",
       "      <td>0</td>\n",
       "      <td>0</td>\n",
       "      <td>1</td>\n",
       "      <td>105.25</td>\n",
       "      <td>421</td>\n",
       "    </tr>\n",
       "    <tr>\n",
       "      <td>2021-01-01 04:00:00</td>\n",
       "      <td>108</td>\n",
       "      <td>105</td>\n",
       "      <td>106</td>\n",
       "      <td>108</td>\n",
       "      <td>4</td>\n",
       "      <td>4</td>\n",
       "      <td>0</td>\n",
       "      <td>0</td>\n",
       "      <td>1</td>\n",
       "      <td>106.75</td>\n",
       "      <td>427</td>\n",
       "    </tr>\n",
       "  </tbody>\n",
       "</table>\n",
       "</div>"
      ],
      "text/plain": [
       "                     15분  30분  45분  60분  DayName  Hour  AM  Weekend_yn  \\\n",
       "DateHour                                                                 \n",
       "2021-01-01 00:00:00   62   61   61   61        4     0   0           0   \n",
       "2021-01-01 01:00:00   96   93  116  113        4     1   0           0   \n",
       "2021-01-01 02:00:00  106   96  106  107        4     2   0           0   \n",
       "2021-01-01 03:00:00   92  110  110  109        4     3   0           0   \n",
       "2021-01-01 04:00:00  108  105  106  108        4     4   0           0   \n",
       "\n",
       "                     Holiday_yn     Avg  TotalHour  \n",
       "DateHour                                            \n",
       "2021-01-01 00:00:00           1   61.25        245  \n",
       "2021-01-01 01:00:00           1  104.50        418  \n",
       "2021-01-01 02:00:00           1  103.75        415  \n",
       "2021-01-01 03:00:00           1  105.25        421  \n",
       "2021-01-01 04:00:00           1  106.75        427  "
      ]
     },
     "execution_count": 2,
     "metadata": {},
     "output_type": "execute_result"
    }
   ],
   "source": [
    "# parse_dates를 통해 datetime 형식으로 불러옵니다.\n",
    "df_elec = pd.read_csv('elec.csv', parse_dates=['Date', 'DateHour'])\n",
    "df_elec1 = df_elec.set_index(['DateHour', 'Minute']).drop(columns=['Date']).unstack()\n",
    "min_cols = ['15분', '30분', '45분', '60분']\n",
    "df_elec1.columns = min_cols\n",
    "holi = pd.to_datetime([\"2021-01-01\", \"2021-02-11\", \"2021-02-12\", \"2021-03-01\", \"2021-05-05\", \"2021-05-19\", \"2021-08-16\"]).date\n",
    "df_elec1 = df_elec1.assign(\n",
    "    DayName = df_elec1.index.weekday, # 요일을 뽑아옵니다\n",
    "    Hour = df_elec1.index.hour, # 시간을 뽑아옵니다.\n",
    "    AM = (df_elec1.index.hour >= 12).astype(int),\n",
    "    Weekend_yn = df_elec1.index.weekday.isin([5, 6]).astype(int), # isin을 통해 리스트 안의 값에 해당하는지 봅니다.\n",
    "    Holiday_yn = np.isin(df_elec1.index.date, holi).astype(int), # 일자만을 뽑아 비교합니다.\n",
    "    Avg = df_elec1[min_cols].mean(axis=1), # 평균 \n",
    "    TotalHour = df_elec1[min_cols].sum(axis=1) # 합계\n",
    ")\n",
    "df_elec1.head()"
   ]
  },
  {
   "cell_type": "code",
   "execution_count": 3,
   "id": "50b70fee",
   "metadata": {},
   "outputs": [
    {
     "data": {
      "text/html": [
       "<div>\n",
       "<style scoped>\n",
       "    .dataframe tbody tr th:only-of-type {\n",
       "        vertical-align: middle;\n",
       "    }\n",
       "\n",
       "    .dataframe tbody tr th {\n",
       "        vertical-align: top;\n",
       "    }\n",
       "\n",
       "    .dataframe thead th {\n",
       "        text-align: right;\n",
       "    }\n",
       "</style>\n",
       "<table border=\"1\" class=\"dataframe\">\n",
       "  <thead>\n",
       "    <tr style=\"text-align: right;\">\n",
       "      <th></th>\n",
       "      <th>Date</th>\n",
       "      <th>생산량</th>\n",
       "      <th>기온</th>\n",
       "      <th>풍속</th>\n",
       "      <th>습도</th>\n",
       "      <th>강수량</th>\n",
       "      <th>전기요금(계절)</th>\n",
       "      <th>공장인원</th>\n",
       "      <th>인건비</th>\n",
       "    </tr>\n",
       "  </thead>\n",
       "  <tbody>\n",
       "    <tr>\n",
       "      <td>0</td>\n",
       "      <td>2021-01-01 00:00:00</td>\n",
       "      <td>0</td>\n",
       "      <td>-3.2</td>\n",
       "      <td>2.4</td>\n",
       "      <td>71</td>\n",
       "      <td>0.0</td>\n",
       "      <td>109.8</td>\n",
       "      <td>0.0</td>\n",
       "      <td>1.5</td>\n",
       "    </tr>\n",
       "    <tr>\n",
       "      <td>1</td>\n",
       "      <td>2021-01-01 01:00:00</td>\n",
       "      <td>0</td>\n",
       "      <td>-4.5</td>\n",
       "      <td>1.5</td>\n",
       "      <td>77</td>\n",
       "      <td>0.0</td>\n",
       "      <td>109.8</td>\n",
       "      <td>0.0</td>\n",
       "      <td>1.5</td>\n",
       "    </tr>\n",
       "    <tr>\n",
       "      <td>2</td>\n",
       "      <td>2021-01-01 02:00:00</td>\n",
       "      <td>0</td>\n",
       "      <td>-3.9</td>\n",
       "      <td>2.6</td>\n",
       "      <td>58</td>\n",
       "      <td>0.0</td>\n",
       "      <td>109.8</td>\n",
       "      <td>0.0</td>\n",
       "      <td>1.5</td>\n",
       "    </tr>\n",
       "    <tr>\n",
       "      <td>3</td>\n",
       "      <td>2021-01-01 03:00:00</td>\n",
       "      <td>0</td>\n",
       "      <td>-4.1</td>\n",
       "      <td>2.6</td>\n",
       "      <td>56</td>\n",
       "      <td>0.0</td>\n",
       "      <td>109.8</td>\n",
       "      <td>0.0</td>\n",
       "      <td>1.5</td>\n",
       "    </tr>\n",
       "    <tr>\n",
       "      <td>4</td>\n",
       "      <td>2021-01-01 04:00:00</td>\n",
       "      <td>0</td>\n",
       "      <td>-4.6</td>\n",
       "      <td>2.6</td>\n",
       "      <td>60</td>\n",
       "      <td>0.0</td>\n",
       "      <td>109.8</td>\n",
       "      <td>0.0</td>\n",
       "      <td>1.5</td>\n",
       "    </tr>\n",
       "  </tbody>\n",
       "</table>\n",
       "</div>"
      ],
      "text/plain": [
       "                 Date  생산량   기온   풍속  습도  강수량  전기요금(계절)  공장인원  인건비\n",
       "0 2021-01-01 00:00:00    0 -3.2  2.4  71  0.0     109.8   0.0  1.5\n",
       "1 2021-01-01 01:00:00    0 -4.5  1.5  77  0.0     109.8   0.0  1.5\n",
       "2 2021-01-01 02:00:00    0 -3.9  2.6  58  0.0     109.8   0.0  1.5\n",
       "3 2021-01-01 03:00:00    0 -4.1  2.6  56  0.0     109.8   0.0  1.5\n",
       "4 2021-01-01 04:00:00    0 -4.6  2.6  60  0.0     109.8   0.0  1.5"
      ]
     },
     "execution_count": 3,
     "metadata": {},
     "output_type": "execute_result"
    }
   ],
   "source": [
    "df_info = pd.read_csv('info.csv')\n",
    "# pd.to_datetime으로 문자열을 datetime 형식으로 바꿔 봅니다.\n",
    "df_info['Date'] = pd.to_datetime(df_info['Date'])\n",
    "df_info1 = df_info.fillna(0) # 결측을 모두 0으로 대치하고 info1에 넣습니다.\n",
    "df_info1.head()"
   ]
  },
  {
   "cell_type": "code",
   "execution_count": 4,
   "id": "030f1118",
   "metadata": {},
   "outputs": [
    {
     "data": {
      "text/plain": [
       "(6168, 19)"
      ]
     },
     "execution_count": 4,
     "metadata": {},
     "output_type": "execute_result"
    }
   ],
   "source": [
    "# 방법1: merge\n",
    "# merge는 caller(호출자, left_on), callee(피호출자, right_on)을 컬럼(인덱스에 명칭이 부여됐을 경우, 인덱스 사용가)을\n",
    "# 기준으로 결합니다.\n",
    "df_basetable1 = df_elec1.merge(df_info1, left_on='DateHour', right_on='Date', how='inner')\\\n",
    "        .rename(columns={'Date': 'DateHour'}).set_index('DateHour')\n",
    "df_basetable1.shape"
   ]
  },
  {
   "cell_type": "code",
   "execution_count": 5,
   "id": "e61c6fe0",
   "metadata": {},
   "outputs": [],
   "source": [
    "df_prob3 = df_basetable1.sort_index()\n",
    "df_prob3['target'] = df_basetable1['TotalHour'].shift(-24)\n",
    "df_prob3 = df_prob3.dropna()\n",
    "df_prob4 = pd.concat(\n",
    "    [df_prob3] + \n",
    "    [df_prob3['TotalHour'].shift(24 * i).rename('lag_{}'.format(i)) for i in range(1, 7)],\n",
    "axis=1).dropna()"
   ]
  },
  {
   "cell_type": "code",
   "execution_count": 6,
   "id": "0cd685d8",
   "metadata": {},
   "outputs": [
    {
     "data": {
      "text/plain": [
       "15분           0\n",
       "30분           0\n",
       "45분           0\n",
       "60분           0\n",
       "DayName       0\n",
       "Hour          0\n",
       "AM            0\n",
       "Weekend_yn    0\n",
       "Holiday_yn    0\n",
       "Avg           0\n",
       "TotalHour     0\n",
       "생산량           0\n",
       "기온            0\n",
       "풍속            0\n",
       "습도            0\n",
       "강수량           0\n",
       "전기요금(계절)      0\n",
       "공장인원          0\n",
       "인건비           0\n",
       "target        0\n",
       "lag_1         0\n",
       "lag_2         0\n",
       "lag_3         0\n",
       "lag_4         0\n",
       "lag_5         0\n",
       "lag_6         0\n",
       "dtype: int64"
      ]
     },
     "execution_count": 6,
     "metadata": {},
     "output_type": "execute_result"
    }
   ],
   "source": [
    "df_prob4.isna().sum()"
   ]
  },
  {
   "cell_type": "code",
   "execution_count": 7,
   "id": "858aeb9c",
   "metadata": {},
   "outputs": [],
   "source": [
    "df_prob6_train = df_prob4.loc[df_prob4.index < '2021-08-14'].copy() # 실제 학습셋으로 간주합니다.\n",
    "df_prob6_test = df_prob4.loc[df_prob4.index >= '2021-08-14'].copy() # 실제 평가셋으로 간주합니다."
   ]
  },
  {
   "cell_type": "markdown",
   "id": "1a1857ab",
   "metadata": {},
   "source": [
    "**여기까지가 뽑아온 부분의 마지막입니다.**"
   ]
  },
  {
   "cell_type": "code",
   "execution_count": 8,
   "id": "e16cf92c",
   "metadata": {},
   "outputs": [],
   "source": [
    "from sklearn.compose import ColumnTransformer\n",
    "from sklearn.pipeline import make_pipeline\n",
    "from sklearn.metrics import mean_absolute_error"
   ]
  },
  {
   "cell_type": "code",
   "execution_count": 9,
   "id": "97b208e7",
   "metadata": {},
   "outputs": [],
   "source": [
    "# train/test split 방법을 사용하여 검증해보겠습니다.\n",
    "df_train = df_prob6_train.loc[df_prob6_train.index < '2021-07-14'].copy()\n",
    "df_test = df_prob6_train.loc[df_prob6_train.index >= '2021-07-14'].copy()"
   ]
  },
  {
   "cell_type": "code",
   "execution_count": 10,
   "id": "b0e2ff47",
   "metadata": {},
   "outputs": [
    {
     "data": {
      "text/plain": [
       "61.50534596142382"
      ]
     },
     "execution_count": 10,
     "metadata": {},
     "output_type": "execute_result"
    }
   ],
   "source": [
    "# 베이스라인 모델로 SVR 사용합니다.\n",
    "from sklearn.svm import SVR\n",
    "from sklearn.preprocessing import StandardScaler\n",
    "# 문제 3에서의 모델을 가져와 봅니다.\n",
    "X_svr = ['TotalHour'] + ['lag_{}'.format(i) for i in range(1, 7)]\n",
    "# 표준화 처리기를 앞단에 위치시킵니다.\n",
    "reg_svr = make_pipeline(StandardScaler(), SVR(kernel='rbf', C=10, gamma=0.1))\n",
    "reg_svr.fit(df_train[X_svr], df_train['target'])\n",
    "# 학습 성능입니다.\n",
    "mean_absolute_error(df_train['target'], reg_svr.predict(df_train[X_svr]))"
   ]
  },
  {
   "cell_type": "code",
   "execution_count": 11,
   "id": "a02174f4",
   "metadata": {},
   "outputs": [
    {
     "data": {
      "text/plain": [
       "148.65000821712516"
      ]
     },
     "execution_count": 11,
     "metadata": {},
     "output_type": "execute_result"
    }
   ],
   "source": [
    "# 테스트 성능입니다.\n",
    "mean_absolute_error(df_test['target'], reg_svr.predict(df_test[X_svr]))"
   ]
  },
  {
   "cell_type": "code",
   "execution_count": 12,
   "id": "582faeef",
   "metadata": {},
   "outputs": [],
   "source": [
    "# 학습셋 전체로 학습을 시킵니다.\n",
    "reg_svr.fit(df_prob6_train[X_svr], df_prob6_train['target'])\n",
    "# 제출 파일을 만듭니다.\n",
    "# to_csv의 index 매개변수로, 인덱스 포함여부를 정할 수 있습니다. index=None을하면 인덱스를 기록하지 않습니다.\n",
    "# pd.DataFrame으로 데이터프레임을 만들 때 index를 포함하지 않더라도, index=None을 하지 않으면\n",
    "# 디폴트 인덱스인 0, 1, 2, ... 가 출력됩니다.\n",
    "# answer6.csv를 반드시 확인하세요.\n",
    "pd.DataFrame(\n",
    "    reg_svr.predict(df_prob6_test[X_svr]),\n",
    "    columns=['target'],\n",
    "    index=df_prob6_test.index\n",
    ").to_csv('answer6.csv')"
   ]
  },
  {
   "cell_type": "code",
   "execution_count": 13,
   "id": "fb327122",
   "metadata": {},
   "outputs": [
    {
     "data": {
      "text/plain": [
       "59.927341903643075"
      ]
     },
     "execution_count": 13,
     "metadata": {},
     "output_type": "execute_result"
    }
   ],
   "source": [
    "from sklearn.preprocessing import OneHotEncoder\n",
    "X_cont = ['TotalHour'] + ['lag_{}'.format(i) for i in range(1, 7)]\n",
    "ct = ColumnTransformer([\n",
    "    ('ohe', OneHotEncoder(drop='first', categories='auto'), ['DayName']),\n",
    "    ('std', StandardScaler(), X_cont)\n",
    "])\n",
    "X_svr_2 = X_cont + ['DayName']\n",
    "reg_svr_2 = make_pipeline(ct, SVR(kernel='rbf', C=10, gamma=0.1))\n",
    "reg_svr_2.fit(df_train[X_svr_2], df_train['target'])\n",
    "mean_absolute_error(df_train['target'], reg_svr_2.predict(df_train[X_svr_2]))"
   ]
  },
  {
   "cell_type": "code",
   "execution_count": 14,
   "id": "ea2b231a",
   "metadata": {},
   "outputs": [
    {
     "data": {
      "text/plain": [
       "146.98340618482405"
      ]
     },
     "execution_count": 14,
     "metadata": {},
     "output_type": "execute_result"
    }
   ],
   "source": [
    "mean_absolute_error(df_test['target'], reg_svr_2.predict(df_test[X_svr_2]))"
   ]
  },
  {
   "cell_type": "code",
   "execution_count": 15,
   "id": "a326aee8",
   "metadata": {},
   "outputs": [
    {
     "data": {
      "text/plain": [
       "36.73714649971901"
      ]
     },
     "execution_count": 15,
     "metadata": {},
     "output_type": "execute_result"
    }
   ],
   "source": [
    "from sklearn.ensemble import GradientBoostingRegressor\n",
    "X_gb =\"15분, 30분, 45분, 60분, DayName, Hour, AM, Weekend_yn, Holiday_yn, Avg, TotalHour, 생산량, 기온, 풍속, 습도, 강수량, 전기요금(계절), 공장인원, 인건비\"\n",
    "X_gb =[i.strip() for i in X_gb.split(',')]\n",
    "# Voting을 위해 앞단에 feature filter 셋팅으로 ColumnTransformer를 셋팅한 것입니다.\n",
    "reg_gb = make_pipeline(\n",
    "    ColumnTransformer([\n",
    "        ('pt', 'passthrough', X_gb)\n",
    "    ]),\n",
    "    GradientBoostingRegressor(\n",
    "        loss='huber', # 손실함수: huber\n",
    "        n_estimators=75, # 트리의 수: 75\n",
    "        max_depth=7, # 트리의 최대 깊이: 7\n",
    "        min_samples_leaf=4, # 리프 노드(Leaf Node)의 최소 샘플 수: 4\n",
    "        random_state=123 # 랜덤 시드: 123\n",
    "    )\n",
    ")\n",
    "reg_gb.fit(df_train[X_gb], df_train['target'])\n",
    "mean_absolute_error(df_train['target'], reg_gb.predict(df_train[X_gb]))"
   ]
  },
  {
   "cell_type": "code",
   "execution_count": 16,
   "id": "58899ea1",
   "metadata": {},
   "outputs": [
    {
     "data": {
      "text/plain": [
       "117.32391481946111"
      ]
     },
     "execution_count": 16,
     "metadata": {},
     "output_type": "execute_result"
    }
   ],
   "source": [
    "# SVR보다 성능이 개선 됐습니다.\n",
    "mean_absolute_error(df_test['target'], reg_gb.predict(df_test[X_gb]))"
   ]
  },
  {
   "cell_type": "code",
   "execution_count": 17,
   "id": "03e02207",
   "metadata": {},
   "outputs": [
    {
     "data": {
      "text/plain": [
       "45.54555120559154"
      ]
     },
     "execution_count": 17,
     "metadata": {},
     "output_type": "execute_result"
    }
   ],
   "source": [
    "from sklearn.ensemble import VotingRegressor\n",
    "# reg_svr_2 모델과 reg_gb 모델을 결합한 VotingRegressor 앙상블 모델을 만듭니다.\n",
    "reg_vt = VotingRegressor([\n",
    "    ('reg_svr_2', reg_svr_2),\n",
    "    ('reg_gb', reg_gb)\n",
    "])\n",
    "X_vt = X_gb + ['lag_{}'.format(i) for i in range(1, 7)]\n",
    "reg_vt.fit(df_train[X_vt], df_train['target'])\n",
    "mean_absolute_error(df_train['target'], reg_vt.predict(df_train[X_vt]))"
   ]
  },
  {
   "cell_type": "code",
   "execution_count": 18,
   "id": "aec47ac5",
   "metadata": {},
   "outputs": [
    {
     "data": {
      "text/plain": [
       "128.5001623335758"
      ]
     },
     "execution_count": 18,
     "metadata": {},
     "output_type": "execute_result"
    }
   ],
   "source": [
    "# 성능이 개선 되진 않았습니다.\n",
    "mean_absolute_error(df_test['target'], reg_vt.predict(df_test[X_vt]))"
   ]
  },
  {
   "cell_type": "code",
   "execution_count": 19,
   "id": "2456a704",
   "metadata": {},
   "outputs": [],
   "source": [
    "# reg_gb를 최종 Output으로 결정합니다.\n",
    "\n",
    "reg_gb.fit(df_prob6_train[X_gb], df_prob6_train['target'])\n",
    "pd.DataFrame(\n",
    "    reg_gb.predict(df_prob6_test[X_gb]),\n",
    "    columns=['target'],\n",
    "    index=df_prob6_test.index\n",
    ").to_csv('answer6.csv')"
   ]
  },
  {
   "cell_type": "markdown",
   "id": "fdcb306e",
   "metadata": {},
   "source": [
    "**실제 성능을 평가해 봅니다.**"
   ]
  },
  {
   "cell_type": "code",
   "execution_count": 20,
   "id": "9da8535f",
   "metadata": {},
   "outputs": [
    {
     "data": {
      "text/plain": [
       "38.86815607791259"
      ]
     },
     "execution_count": 20,
     "metadata": {},
     "output_type": "execute_result"
    }
   ],
   "source": [
    "mean_absolute_error(df_prob6_test['target'], reg_gb.predict(df_prob6_test[X_gb]))"
   ]
  },
  {
   "cell_type": "code",
   "execution_count": null,
   "id": "dd03a512",
   "metadata": {},
   "outputs": [],
   "source": []
  }
 ],
 "metadata": {
  "kernelspec": {
   "display_name": "Python 3 (ipykernel)",
   "language": "python",
   "name": "python3"
  },
  "language_info": {
   "codemirror_mode": {
    "name": "ipython",
    "version": 3
   },
   "file_extension": ".py",
   "mimetype": "text/x-python",
   "name": "python",
   "nbconvert_exporter": "python",
   "pygments_lexer": "ipython3",
   "version": "3.7.4"
  }
 },
 "nbformat": 4,
 "nbformat_minor": 5
}
